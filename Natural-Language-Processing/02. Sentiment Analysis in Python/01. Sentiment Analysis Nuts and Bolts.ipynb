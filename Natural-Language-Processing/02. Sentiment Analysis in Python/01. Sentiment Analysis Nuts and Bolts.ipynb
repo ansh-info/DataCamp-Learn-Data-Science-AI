{
 "cells": [
  {
   "cell_type": "markdown",
   "metadata": {},
   "source": [
    "1\\. Welcome!\n",
    "------------\n",
    "\n",
    "00:00 - 00:15\n",
    "\n",
    "Welcome to the course! In this course, we will build upon some of your Python skills and introduce methods for sentiment analysis using movie and product reviews, Twitter data and a lot of literary examples.\n",
    "\n",
    "2\\. What is sentiment analysis?\n",
    "-------------------------------\n",
    "\n",
    "00:15 - 00:34\n",
    "\n",
    "Let's start with defining what sentiment analysis is. Sentiment analysis, also called opinion mining, is the process of understanding the opinion of an author about a subject. In other words, \"What is the emotion or opinion of the author of the text about the subject discussed?\"\n",
    "\n",
    "3\\. What goes into a sentiment analysis system?\n",
    "-----------------------------------------------\n",
    "\n",
    "00:34 - 01:02\n",
    "\n",
    "In a sentiment analysis system, depending on the context, we usually have 3 elements: First is the opinion or an emotion. An opinion (also called \"polarity\") can be positive, neutral or negative. An emotion could be qualitative (like joy, surprise, or anger) or quantitative (like rating a movie on the scale from 1 to 10).\n",
    "\n",
    "4\\. What goes into a sentiment analysis system?\n",
    "-----------------------------------------------\n",
    "\n",
    "01:02 - 01:30\n",
    "\n",
    "The second element in a sentiment analysis system is the subject that is being talked about, such as a book, a movie, or a product. Sometimes one opinion could discuss multiple aspects of the same subject. For example: \"The camera on this phone is great but its battery life is rather disappointing.\"\" The third element is the opinion holder, or entity, expressing the opinion.\n",
    "\n",
    "5\\. Why sentiment analysis?\n",
    "---------------------------\n",
    "\n",
    "01:30 - 02:15\n",
    "\n",
    "Sentiment analysis has many practical applications. In social media monitoring, we don't just want to know if people are talking about a brand; we want to know how they are talking about it. Social media isn't our only source of information; we can also find sentiment on forums, blogs, and the news. Most brands analyze all of these sources to enrich their understanding of how customers interact with their brand, what they are happy or unhappy about, and what matters most to consumers. Sentiment analysis is thus very important in brand monitoring, and in fields such as customer and product analytics and market research and analysis.\n",
    "\n",
    "6\\. Let's look at movie reviews!\n",
    "--------------------------------\n",
    "\n",
    "02:15 - 02:37\n",
    "\n",
    "Let's look at the first dataset we will use in this course: a sample of IMDB movie reviews. We have two columns: one for the text of the review, and a second one called \"label\", which expresses the overall sentiment: the category or class 1 means positive and 0 means negative.\n",
    "\n",
    "7\\. How many positive and negative reviews?\n",
    "-------------------------------------------\n",
    "\n",
    "02:37 - 02:55\n",
    "\n",
    "Let's find out how many positive and negative reviews we have in the data. To do this, we call the .value_counts() method on the \"label\" column. The output is the number of negative reviews (the 0 class) and positive reviews (the class 1).\n",
    "\n",
    "8\\. Percentage of positive and negative reviews\n",
    "-----------------------------------------------\n",
    "\n",
    "02:55 - 03:11\n",
    "\n",
    "If we want to see the number of positives and negatives as a percentage, we can divide the expression by the number of rows, which we obtain with the len() method. We see that the sample is rather balanced: around half of the reviews are positive and half are negative.\n",
    "\n",
    "9\\. How long is the longest review?\n",
    "-----------------------------------\n",
    "\n",
    "03:11 - 03:52\n",
    "\n",
    "How long is the longest review? To find that, we create a pandas Series called length_reviews by selecting the review column of the dataset, followed by .str.len(). Str is short for string. We need to call the string function to transform the Series of reviews to a string. If we skip it, we get an AttributeError when the len() function is called. The result returns a pandas Series with the number of characters in each review. To find the length of the longest review, we need to call the max() function on the length_reviews Series.\n",
    "\n",
    "10\\. How long is the shortest review?\n",
    "-------------------------------------\n",
    "\n",
    "03:52 - 03:59\n",
    "\n",
    "To find the shortest review, we call the min() function on the length_reviews Series, instead of the max() function.\n",
    "\n",
    "11\\. Let's practice!\n",
    "--------------------\n",
    "\n",
    "03:59 - 04:03\n",
    "\n",
    "Let's practice what we've learned in the exercises!"
   ]
  },
  {
   "cell_type": "markdown",
   "metadata": {},
   "source": [
    "Elements of a sentiment analysis problem\n",
    "========================================\n",
    "\n",
    "What are the three typical elements of a sentiment analysis system?\n",
    "\n",
    "##### Answer the question\n",
    "\n",
    "#### Possible Answers\n",
    "\n",
    "Select one answer\n",
    "\n",
    "[/] -   Opinion, emotion, and subject.\n",
    "\n",
    "-   Opinion, subject, and opinion holder.\n",
    "\n",
    "-   Emotion, polarity, and opinion.\n",
    "\n",
    "-   Opinion, subject, and polarity."
   ]
  },
  {
   "cell_type": "markdown",
   "metadata": {},
   "source": [
    "How many positive and negative reviews are there?\n",
    "=================================================\n",
    "\n",
    "As a first step in a sentiment analysis task, similar to other data science problems, we might want to explore the dataset in more detail.\n",
    "\n",
    "You will work with a sample of the IMDB movies reviews. A dataset called `movies` has been created for you. It is a sample of the data we saw in the slides. Feel free to explore it in the IPython Shell, calling the `.head()` method, for example.\n",
    "\n",
    "*Be aware that this exercise uses real data, and as such there is always a risk that it may contain profanity or other offensive content (in this exercise, and any following exercises that also use real data).*\n",
    "\n",
    "\n",
    "-   Find the number of positive and negative reviews in the `movies` dataset.\n",
    "-   Find the proportion (percentage) of positive and negative reviews in the dataset."
   ]
  },
  {
   "cell_type": "code",
   "execution_count": null,
   "metadata": {},
   "outputs": [],
   "source": [
    "# Find the number of positive and negative reviews\n",
    "print('Number of positive and negative reviews: ', movies.label.value_counts())\n",
    "\n",
    "# Find the proportion of positive and negative reviews\n",
    "print('Proportion of positive and negative reviews: ', movies.label.value_counts() / len(movies))"
   ]
  },
  {
   "cell_type": "markdown",
   "metadata": {},
   "source": [
    "Longest and shortest reviews\n",
    "============================\n",
    "\n",
    "In this exercise, you will continue to work with the `movies` dataset. You explored how many positive and negative reviews there are. Now your task is to explore the `review` column in more detail.\n",
    "\n",
    "Instructions 1/2\n",
    "----------------\n",
    "\n",
    "-   Use the `review` column of the `movies` dataset to find the length of the longest review."
   ]
  },
  {
   "cell_type": "code",
   "execution_count": null,
   "metadata": {},
   "outputs": [],
   "source": [
    "length_reviews = movies.review.str.len()\n",
    "\n",
    "# How long is the longest review\n",
    "print(max(length_reviews))"
   ]
  },
  {
   "cell_type": "markdown",
   "metadata": {},
   "source": [
    "Instructions 2/2\n",
    "----------------\n",
    "\n",
    "-   Use the `review` column of the `movies` dataset to find the length of the longest review.\n",
    "\n",
    "-   Similarly, find the length of the shortest review."
   ]
  },
  {
   "cell_type": "code",
   "execution_count": null,
   "metadata": {},
   "outputs": [],
   "source": [
    "length_reviews = movies.review.str.len()\n",
    "\n",
    "# How long is the shortest review\n",
    "print(min(length_reviews))"
   ]
  }
 ],
 "metadata": {
  "kernelspec": {
   "display_name": "nlp",
   "language": "python",
   "name": "python3"
  },
  "language_info": {
   "name": "python",
   "version": "3.12.7"
  }
 },
 "nbformat": 4,
 "nbformat_minor": 2
}
