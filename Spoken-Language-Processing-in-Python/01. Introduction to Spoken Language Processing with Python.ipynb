{
 "cells": [
  {
   "cell_type": "markdown",
   "metadata": {},
   "source": [
    "1\\. Introduction to audio data in Python\n",
    "----------------------------------------\n",
    "\n",
    "00:00 - 00:12\n",
    "\n",
    "Hello and welcome to the course! My name is Daniel Bourke and I'll be your instructor. To get started, we're first going to see how speech and audio processing is different to other kinds of data processing.\n",
    "\n",
    "2\\. Dealing with audio files in Python\n",
    "--------------------------------------\n",
    "\n",
    "00:12 - 00:59\n",
    "\n",
    "Much like other data types, audio files come in many different formats, such as, mp3, wav, m4a and flac. But each of these formats has a standard measure of frequency. Frequency is measured in kilohertz but is also referred to as kHz or sampling rate. Much like how a movie shows 30 pictures per second which our brains register as moving pictures, the sampling rate of an auido file is a measure of the number of data chunks per second used to represent a digital sound. With one kilohertz equaling one thousand pieces of information per second.\n",
    "\n",
    "3\\. Frequency examples\n",
    "----------------------\n",
    "\n",
    "00:59 - 01:46\n",
    "\n",
    "For example, a song you stream will usually have a 32 kHz sampling rate. This means 32,000 pieces of information per second. Speech and audio books are usually between 8 and 16 kHz. We'll look at some of these later. And as you might've guessed, audio files are different to tabular or text data because you can't immediately see the data you're working with. To get spoken language audio files into something we can see and manipulate, we first have to open the audio file with Python's built-in wave module. We can get started with the wave module by running the command import wave.\n",
    "\n",
    "4\\. Opening an audio file in Python\n",
    "-----------------------------------\n",
    "\n",
    "01:46 - 03:18\n",
    "\n",
    "Now, we have an audio file, good morning dot wav ready to go. It contains a person saying the words good morning. To import it, we'll use wave's open method. Now we've saved the good morning dot wav audio file to the variable good_morning in the format of a wave_object. However, in this state it's not very useful to us. To manipulate it further, we'll use the readframes method to convert the wave_object to bytes. The -1 means we want to read in all of the pieces of information within the wave_object. Now we've converted the audio file to bytes, what do they look like? Okay, we can see a snippet of the entire soundwave in byte form. But remember how kilohertz means thousands of pieces of information per second? The good morning dot wav audio file is 48 kilohertz and 2-seconds long. 48,000 pieces of information per second and 2-seconds long equals 96,000 chunks of data all for only two words. So if we printed out the entire soundwave in byte form we'd see 96,000 of these combinations of letters and numbers. Don't worry, if the output looks confusing for now, we'll learn how to convert these bytes into something more useful shortly.\n",
    "\n",
    "5\\. Working with audio is different\n",
    "-----------------------------------\n",
    "\n",
    "03:18 - 03:58\n",
    "\n",
    "Now you can start to see how working with audio and spoken language files is different to other kinds of data. First of all, unlike text or tabular data, you can't immediately see what you're working with. So many audio files often require a conversion step before you can begin working with them. And because of the frequency measure, even a few seconds of audio can contain large amounts of data. Add in background noise, other sounds, more speakers and the number of pieces of information grows even more. We'll look into this later on.\n",
    "\n",
    "6\\. Let's practice!\n",
    "-------------------\n",
    "\n",
    "03:58 - 04:06\n",
    "\n",
    "Alright, it's time to get hands on and practice importing your first audio file!"
   ]
  },
  {
   "cell_type": "markdown",
   "metadata": {},
   "source": [
    "The right frequency\n",
    "===================\n",
    "\n",
    "Movies play multiple pictures per second succession to give the illusion of moving pictures, sound is similar but usually at a much larger rate. What's the standard unit of measure for sound frequency?\n",
    "\n",
    "##### Answer the question\n",
    "\n",
    "#### Possible Answers\n",
    "\n",
    "Select one answer\n",
    "\n",
    "[/] -   FPS (frames per second)\n",
    "\n",
    "-   SPS (sound per second)\n",
    "\n",
    "-   Hz (Hertz)\n",
    "\n",
    "-   WPS (waves per second)"
   ]
  },
  {
   "cell_type": "markdown",
   "metadata": {},
   "source": [
    "Importing an audio file with Python\n",
    "===================================\n",
    "\n",
    "You've seen how there are different kinds of audio files and how streaming music and spoken language have different sampling rates. But now we want to start working with these files.\n",
    "\n",
    "To begin, we're going to import the `good_morning.wav` audio file using Python's in-built `wave` library. Then we'll see what it looks like in byte form using the built-in `readframes()` method.\n",
    "\n",
    "You can listen to `good_morning.wav` [here](https://assets.datacamp.com/production/repositories/4637/datasets/d30b8e2319792fb3e9d7ce1e469b15ecf3f75227/good-morning.wav).\n",
    "\n",
    "Remember, `good_morning.wav` is only a few seconds long but at 48 kHz, that means it contains 48,000 pieces of information per second.\n",
    "\n",
    "Instructions\n",
    "------------\n",
    "\n",
    "-   Import the Python `wave` library.\n",
    "-   Read in the `good_morning.wav` audio file and save it to `good_morning`.\n",
    "-   Create `signal_gm` by reading all the frames from `good_morning` using `readframes()`.\n",
    "-   See what the first 10 frames of audio look like by slicing `signal_gm`."
   ]
  },
  {
   "cell_type": "code",
   "execution_count": null,
   "metadata": {},
   "outputs": [],
   "source": [
    "import wave\n",
    "\n",
    "# Create audio file wave object\n",
    "good_morning = wave.open('good_morning.wav', 'r')\n",
    "\n",
    "# Read all frames from wave object \n",
    "signal_gm = good_morning.readframes(-1)\n",
    "\n",
    "# View first 10\n",
    "print(signal_gm[:10])"
   ]
  }
 ],
 "metadata": {
  "kernelspec": {
   "display_name": "ml",
   "language": "python",
   "name": "python3"
  },
  "language_info": {
   "name": "python",
   "version": "3.12.7"
  }
 },
 "nbformat": 4,
 "nbformat_minor": 2
}
