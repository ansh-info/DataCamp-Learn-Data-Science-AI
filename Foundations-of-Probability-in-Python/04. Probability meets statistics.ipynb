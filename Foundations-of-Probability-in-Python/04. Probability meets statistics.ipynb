{
 "cells": [
  {
   "cell_type": "markdown",
   "id": "08f368f5",
   "metadata": {},
   "source": [
    "1\\. From sample mean to population mean\n",
    "---------------------------------------\n",
    "\n",
    "00:00 - 00:13\n",
    "\n",
    "Now we're going to study some patterns that we can observe in the sample mean when the sample size becomes larger. These patterns form the basis of the law of large numbers.\n",
    "\n",
    "2\\. Sample mean review\n",
    "----------------------\n",
    "\n",
    "00:13 - 00:27\n",
    "\n",
    "Jakob Bernoulli developed the law of large numbers in his book Ars Conjectandi (1713). The law states that the sample mean tends to the expected value as the sample grows larger.\n",
    "\n",
    "3\\. Sample mean review (Cont.)\n",
    "------------------------------\n",
    "\n",
    "00:27 - 00:33\n",
    "\n",
    "For example, we calculate the sample mean of two values by adding the values and dividing by two.\n",
    "\n",
    "4\\. Sample mean review (Cont.)\n",
    "------------------------------\n",
    "\n",
    "00:33 - 00:39\n",
    "\n",
    "For three values, we add up the values and divide by three.\n",
    "\n",
    "5\\. Sample mean review (Cont.)\n",
    "------------------------------\n",
    "\n",
    "00:39 - 00:45\n",
    "\n",
    "If we have n samples, we add the n values and divide by n.\n",
    "\n",
    "6\\. Sample mean review (Cont.)\n",
    "------------------------------\n",
    "\n",
    "00:45 - 00:54\n",
    "\n",
    "As the sample becomes larger, the sample mean gets nearer to the population mean. Let's code a bit.\n",
    "\n",
    "7\\. Generating the sample\n",
    "-------------------------\n",
    "\n",
    "00:54 - 01:34\n",
    "\n",
    "To generate a sample of coin flips, we will use the binomial distribution. First we import the binom object and the describe method from scipy dot stats, then we generate the sample using binom dot rvs. We specify n as 1 coin flip and p as the probability of success (0.5 for a fair coin), then we specify the sample size as 250 and set random_state so we can reproduce our results. After that, we print the first 100 values from our samples.\n",
    "\n",
    "8\\. Calculating the sample mean\n",
    "-------------------------------\n",
    "\n",
    "01:34 - 01:53\n",
    "\n",
    "To calculate the sample mean we pass the sample to describe dot mean. We specify samples from 0 to 10, and we see that for the first 10 values the sample mean is 0.6. Now let's see what this process looks like with an animation.\n",
    "\n",
    "9\\. Sample mean of coin flips (Cont.)\n",
    "-------------------------------------\n",
    "\n",
    "01:53 - 02:31\n",
    "\n",
    "In this animation you see how we take the sample mean for values from 2 to 250 using the describe method. The red line represents the population mean, in this case 0.5, and the blue line is the sample mean. As you'll notice, due to the randomness of the data, the sample mean fluctuates around the population mean -- but as more data becomes available, the sample mean approaches the population mean. Let's see another example with the normal distribution.\n",
    "\n",
    "10\\. Sample mean of normal distribution\n",
    "---------------------------------------\n",
    "\n",
    "02:31 - 03:19\n",
    "\n",
    "Now we have three animated plots. At the top left we have our sample data from a normal distribution. We use one dot for each sample. At the top right we've plotted a histogram of the sample data, and at the bottom we've plotted the sample mean. In all the plots the population mean is represented with a black line and the sample mean is drawn using a red line. You can see how the red line moves and gets nearer to the population mean as more data becomes available. Enjoy the animations for a bit, and get some perspective. Now let's move on and learn how to plot the sample mean with Python.\n",
    "\n",
    "11\\. Plotting the sample mean\n",
    "-----------------------------\n",
    "\n",
    "03:19 - 03:45\n",
    "\n",
    "First we import the binom object and describe from scipy dot stats, along with matplotlib dot pyplot as plt. Then we initialize the variables, setting coin_flips to 1, p to 0.5, sample_size to 1000, and averages to an empty list.\n",
    "\n",
    "12\\. Plotting the sample mean (Cont.)\n",
    "-------------------------------------\n",
    "\n",
    "03:45 - 04:06\n",
    "\n",
    "Finally, we calculate the sample mean using describe from 0 to the i index that goes from 2 to sample_size plus 1. We store the result in the averages list using append, then we print the first 10 values.\n",
    "\n",
    "13\\. Plotting the sample mean (Cont.)\n",
    "-------------------------------------\n",
    "\n",
    "04:06 - 04:20\n",
    "\n",
    "We add a red line with plt dot axhline at the population mean and plot the averages. Then we add a legend in the upper-right corner and show our plot.\n",
    "\n",
    "14\\. Sample mean plot\n",
    "---------------------\n",
    "\n",
    "04:20 - 04:25\n",
    "\n",
    "The result is this beautiful plot that shows the law of large numbers in action.\n",
    "\n",
    "15\\. Let's practice!\n",
    "--------------------\n",
    "\n",
    "04:25 - 04:32\n",
    "\n",
    "Let's get some hands-on practice with the law of large numbers."
   ]
  },
  {
   "cell_type": "markdown",
   "id": "183f373e",
   "metadata": {},
   "source": [
    "Generating a sample\n",
    "===================\n",
    "\n",
    "A hospital's planning department is investigating different treatments for newborns. As a data scientist you are hired to simulate the sex of 250 newborn children, and you are told that on average 50.50% are males.\n",
    "\n",
    "Instructions\n",
    "------------\n",
    "\n",
    "-   Import the `binom` object from `scipy.stats`.\n",
    "-   Generate a sample of 250 newborns with 50.50% probability of being male.\n",
    "-   Print the sample."
   ]
  },
  {
   "cell_type": "code",
   "execution_count": null,
   "id": "9a1a76f5",
   "metadata": {},
   "outputs": [],
   "source": [
    "# Import the binom object\n",
    "from scipy.stats import binom\n",
    "\n",
    "# Generate a sample of 250 newborn children\n",
    "sample = binom.rvs(n=1, p=0.505, size=250, random_state=42)\n",
    "\n",
    "# Show the sample values\n",
    "print(sample)"
   ]
  },
  {
   "cell_type": "markdown",
   "id": "551d4330",
   "metadata": {},
   "source": [
    "Calculating the sample mean\n",
    "===========================\n",
    "\n",
    "Now you can calculate the sample mean for this generated sample by taking some elements from the sample.\n",
    "\n",
    "Using the `sample` variable you just created, you'll calculate the sample means of the first 10, 50, and 250 samples.\n",
    "\n",
    "The `binom` object and `describe()` method from `scipy.stats` have been imported for your convenience.\n",
    "\n",
    "Instructions 1/3\n",
    "----------------\n",
    "\n",
    "Print the sample mean of the first 10 samples."
   ]
  },
  {
   "cell_type": "code",
   "execution_count": null,
   "id": "8816aa66",
   "metadata": {},
   "outputs": [],
   "source": [
    "# Print the sample mean of the first 10 samples\n",
    "print(describe(sample[0:10]).mean)"
   ]
  },
  {
   "cell_type": "markdown",
   "id": "801d0790",
   "metadata": {},
   "source": [
    "Instructions 2/3\n",
    "----------------\n",
    "\n",
    "-   Print the sample mean of the first 10 samples."
   ]
  },
  {
   "cell_type": "code",
   "execution_count": null,
   "id": "4836c84e",
   "metadata": {},
   "outputs": [],
   "source": [
    "# Print the sample mean of the first 50 samples\n",
    "print(describe(sample[0:50]).mean)"
   ]
  },
  {
   "cell_type": "markdown",
   "id": "4185b901",
   "metadata": {},
   "source": [
    "Instructions 3/3\n",
    "----------------\n",
    "\n",
    "-   Print the sample mean of the first 50 samples."
   ]
  },
  {
   "cell_type": "code",
   "execution_count": null,
   "id": "d37b6366",
   "metadata": {},
   "outputs": [],
   "source": [
    "# Print the sample mean of the first 250 samples\n",
    "print(describe(sample[0:250]).mean)"
   ]
  },
  {
   "cell_type": "markdown",
   "id": "e184753e",
   "metadata": {},
   "source": [
    "Plotting the sample mean\n",
    "========================\n",
    "\n",
    "Now let's plot the sample mean, so you can see more clearly how it evolves as more data becomes available.\n",
    "\n",
    "For this exercise we'll again use the sample you generated earlier, which is available in the `sample` variable. The `binom` object and `describe()` function have already been imported for you from `scipy.stats`, and `matplotlib.pyplot` is available as `plt`.\n",
    "\n",
    "Instructions 1/3\n",
    "----------------\n",
    "\n",
    "In a `for` statement for `i` in a range that goes from `2` to `251`, do the following:\n",
    "\n",
    "-   Calculate the sample mean for the first `i` values.\n",
    "-   Use `append` to add the value to the `averages` array."
   ]
  },
  {
   "cell_type": "code",
   "execution_count": null,
   "id": "ffe4a6df",
   "metadata": {},
   "outputs": [],
   "source": [
    "# Calculate sample mean and store it on averages array\n",
    "averages = []\n",
    "for i in range(2, 251):\n",
    "    averages.append(describe(sample[0:i]).mean)"
   ]
  },
  {
   "cell_type": "markdown",
   "id": "7dfa8d3a",
   "metadata": {},
   "source": [
    "Instructions 2/3\n",
    "----------------\n",
    "\n",
    "Add a horizontal line at the mean value of the binomial distribution with `n=1` and `p=0.505`."
   ]
  },
  {
   "cell_type": "code",
   "execution_count": null,
   "id": "bc8639b5",
   "metadata": {},
   "outputs": [],
   "source": [
    "# Calculate sample mean and store it on averages array\n",
    "averages = []\n",
    "for i in range(2, 251):\n",
    "    averages.append(describe(sample[0:i]).mean)\n",
    "\n",
    "# Add population mean line and sample mean plot\n",
    "plt.axhline(binom.mean(n=1, p=0.505), color='red')\n",
    "plt.plot(averages, '-')"
   ]
  },
  {
   "cell_type": "markdown",
   "id": "e8b4322b",
   "metadata": {},
   "source": [
    "Instructions 3/3\n",
    "----------------\n",
    "\n",
    "Add a legend with labels `Population mean` and `Sample mean` and show the plot."
   ]
  },
  {
   "cell_type": "code",
   "execution_count": null,
   "id": "67e91f19",
   "metadata": {},
   "outputs": [],
   "source": [
    "# Calculate sample mean and store it on averages array\n",
    "averages = []\n",
    "for i in range(2, 251):\n",
    "    averages.append(describe(sample[0:i]).mean)\n",
    "\n",
    "# Add population mean line and sample mean plot\n",
    "plt.axhline(binom.mean(n=1, p=0.505), color='red')\n",
    "plt.plot(averages, '-')\n",
    "\n",
    "# Add legend\n",
    "plt.legend((\"Population mean\",\"Sample mean\"), loc='upper right')\n",
    "plt.show()"
   ]
  }
 ],
 "metadata": {
  "kernelspec": {
   "display_name": "base",
   "language": "python",
   "name": "python3"
  },
  "language_info": {
   "name": "python",
   "version": "3.12.7"
  }
 },
 "nbformat": 4,
 "nbformat_minor": 5
}
