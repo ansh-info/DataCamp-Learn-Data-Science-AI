{
 "cells": [
  {
   "cell_type": "markdown",
   "id": "08f368f5",
   "metadata": {},
   "source": [
    "1\\. From sample mean to population mean\n",
    "---------------------------------------\n",
    "\n",
    "00:00 - 00:13\n",
    "\n",
    "Now we're going to study some patterns that we can observe in the sample mean when the sample size becomes larger. These patterns form the basis of the law of large numbers.\n",
    "\n",
    "2\\. Sample mean review\n",
    "----------------------\n",
    "\n",
    "00:13 - 00:27\n",
    "\n",
    "Jakob Bernoulli developed the law of large numbers in his book Ars Conjectandi (1713). The law states that the sample mean tends to the expected value as the sample grows larger.\n",
    "\n",
    "3\\. Sample mean review (Cont.)\n",
    "------------------------------\n",
    "\n",
    "00:27 - 00:33\n",
    "\n",
    "For example, we calculate the sample mean of two values by adding the values and dividing by two.\n",
    "\n",
    "4\\. Sample mean review (Cont.)\n",
    "------------------------------\n",
    "\n",
    "00:33 - 00:39\n",
    "\n",
    "For three values, we add up the values and divide by three.\n",
    "\n",
    "5\\. Sample mean review (Cont.)\n",
    "------------------------------\n",
    "\n",
    "00:39 - 00:45\n",
    "\n",
    "If we have n samples, we add the n values and divide by n.\n",
    "\n",
    "6\\. Sample mean review (Cont.)\n",
    "------------------------------\n",
    "\n",
    "00:45 - 00:54\n",
    "\n",
    "As the sample becomes larger, the sample mean gets nearer to the population mean. Let's code a bit.\n",
    "\n",
    "7\\. Generating the sample\n",
    "-------------------------\n",
    "\n",
    "00:54 - 01:34\n",
    "\n",
    "To generate a sample of coin flips, we will use the binomial distribution. First we import the binom object and the describe method from scipy dot stats, then we generate the sample using binom dot rvs. We specify n as 1 coin flip and p as the probability of success (0.5 for a fair coin), then we specify the sample size as 250 and set random_state so we can reproduce our results. After that, we print the first 100 values from our samples.\n",
    "\n",
    "8\\. Calculating the sample mean\n",
    "-------------------------------\n",
    "\n",
    "01:34 - 01:53\n",
    "\n",
    "To calculate the sample mean we pass the sample to describe dot mean. We specify samples from 0 to 10, and we see that for the first 10 values the sample mean is 0.6. Now let's see what this process looks like with an animation.\n",
    "\n",
    "9\\. Sample mean of coin flips (Cont.)\n",
    "-------------------------------------\n",
    "\n",
    "01:53 - 02:31\n",
    "\n",
    "In this animation you see how we take the sample mean for values from 2 to 250 using the describe method. The red line represents the population mean, in this case 0.5, and the blue line is the sample mean. As you'll notice, due to the randomness of the data, the sample mean fluctuates around the population mean -- but as more data becomes available, the sample mean approaches the population mean. Let's see another example with the normal distribution.\n",
    "\n",
    "10\\. Sample mean of normal distribution\n",
    "---------------------------------------\n",
    "\n",
    "02:31 - 03:19\n",
    "\n",
    "Now we have three animated plots. At the top left we have our sample data from a normal distribution. We use one dot for each sample. At the top right we've plotted a histogram of the sample data, and at the bottom we've plotted the sample mean. In all the plots the population mean is represented with a black line and the sample mean is drawn using a red line. You can see how the red line moves and gets nearer to the population mean as more data becomes available. Enjoy the animations for a bit, and get some perspective. Now let's move on and learn how to plot the sample mean with Python.\n",
    "\n",
    "11\\. Plotting the sample mean\n",
    "-----------------------------\n",
    "\n",
    "03:19 - 03:45\n",
    "\n",
    "First we import the binom object and describe from scipy dot stats, along with matplotlib dot pyplot as plt. Then we initialize the variables, setting coin_flips to 1, p to 0.5, sample_size to 1000, and averages to an empty list.\n",
    "\n",
    "12\\. Plotting the sample mean (Cont.)\n",
    "-------------------------------------\n",
    "\n",
    "03:45 - 04:06\n",
    "\n",
    "Finally, we calculate the sample mean using describe from 0 to the i index that goes from 2 to sample_size plus 1. We store the result in the averages list using append, then we print the first 10 values.\n",
    "\n",
    "13\\. Plotting the sample mean (Cont.)\n",
    "-------------------------------------\n",
    "\n",
    "04:06 - 04:20\n",
    "\n",
    "We add a red line with plt dot axhline at the population mean and plot the averages. Then we add a legend in the upper-right corner and show our plot.\n",
    "\n",
    "14\\. Sample mean plot\n",
    "---------------------\n",
    "\n",
    "04:20 - 04:25\n",
    "\n",
    "The result is this beautiful plot that shows the law of large numbers in action.\n",
    "\n",
    "15\\. Let's practice!\n",
    "--------------------\n",
    "\n",
    "04:25 - 04:32\n",
    "\n",
    "Let's get some hands-on practice with the law of large numbers."
   ]
  },
  {
   "cell_type": "markdown",
   "id": "183f373e",
   "metadata": {},
   "source": [
    "Generating a sample\n",
    "===================\n",
    "\n",
    "A hospital's planning department is investigating different treatments for newborns. As a data scientist you are hired to simulate the sex of 250 newborn children, and you are told that on average 50.50% are males.\n",
    "\n",
    "Instructions\n",
    "------------\n",
    "\n",
    "-   Import the `binom` object from `scipy.stats`.\n",
    "-   Generate a sample of 250 newborns with 50.50% probability of being male.\n",
    "-   Print the sample."
   ]
  },
  {
   "cell_type": "code",
   "execution_count": null,
   "id": "9a1a76f5",
   "metadata": {},
   "outputs": [],
   "source": [
    "# Import the binom object\n",
    "from scipy.stats import binom\n",
    "\n",
    "# Generate a sample of 250 newborn children\n",
    "sample = binom.rvs(n=1, p=0.505, size=250, random_state=42)\n",
    "\n",
    "# Show the sample values\n",
    "print(sample)"
   ]
  },
  {
   "cell_type": "markdown",
   "id": "551d4330",
   "metadata": {},
   "source": [
    "Calculating the sample mean\n",
    "===========================\n",
    "\n",
    "Now you can calculate the sample mean for this generated sample by taking some elements from the sample.\n",
    "\n",
    "Using the `sample` variable you just created, you'll calculate the sample means of the first 10, 50, and 250 samples.\n",
    "\n",
    "The `binom` object and `describe()` method from `scipy.stats` have been imported for your convenience.\n",
    "\n",
    "Instructions 1/3\n",
    "----------------\n",
    "\n",
    "Print the sample mean of the first 10 samples."
   ]
  },
  {
   "cell_type": "code",
   "execution_count": null,
   "id": "8816aa66",
   "metadata": {},
   "outputs": [],
   "source": [
    "# Print the sample mean of the first 10 samples\n",
    "print(describe(sample[0:10]).mean)"
   ]
  },
  {
   "cell_type": "markdown",
   "id": "801d0790",
   "metadata": {},
   "source": [
    "Instructions 2/3\n",
    "----------------\n",
    "\n",
    "-   Print the sample mean of the first 10 samples."
   ]
  },
  {
   "cell_type": "code",
   "execution_count": null,
   "id": "4836c84e",
   "metadata": {},
   "outputs": [],
   "source": [
    "# Print the sample mean of the first 50 samples\n",
    "print(describe(sample[0:50]).mean)"
   ]
  },
  {
   "cell_type": "markdown",
   "id": "4185b901",
   "metadata": {},
   "source": [
    "Instructions 3/3\n",
    "----------------\n",
    "\n",
    "-   Print the sample mean of the first 50 samples."
   ]
  },
  {
   "cell_type": "code",
   "execution_count": null,
   "id": "d37b6366",
   "metadata": {},
   "outputs": [],
   "source": [
    "# Print the sample mean of the first 250 samples\n",
    "print(describe(sample[0:250]).mean)"
   ]
  },
  {
   "cell_type": "markdown",
   "id": "e184753e",
   "metadata": {},
   "source": [
    "Plotting the sample mean\n",
    "========================\n",
    "\n",
    "Now let's plot the sample mean, so you can see more clearly how it evolves as more data becomes available.\n",
    "\n",
    "For this exercise we'll again use the sample you generated earlier, which is available in the `sample` variable. The `binom` object and `describe()` function have already been imported for you from `scipy.stats`, and `matplotlib.pyplot` is available as `plt`.\n",
    "\n",
    "Instructions 1/3\n",
    "----------------\n",
    "\n",
    "In a `for` statement for `i` in a range that goes from `2` to `251`, do the following:\n",
    "\n",
    "-   Calculate the sample mean for the first `i` values.\n",
    "-   Use `append` to add the value to the `averages` array."
   ]
  },
  {
   "cell_type": "code",
   "execution_count": null,
   "id": "ffe4a6df",
   "metadata": {},
   "outputs": [],
   "source": [
    "# Calculate sample mean and store it on averages array\n",
    "averages = []\n",
    "for i in range(2, 251):\n",
    "    averages.append(describe(sample[0:i]).mean)"
   ]
  },
  {
   "cell_type": "markdown",
   "id": "7dfa8d3a",
   "metadata": {},
   "source": [
    "Instructions 2/3\n",
    "----------------\n",
    "\n",
    "Add a horizontal line at the mean value of the binomial distribution with `n=1` and `p=0.505`."
   ]
  },
  {
   "cell_type": "code",
   "execution_count": null,
   "id": "bc8639b5",
   "metadata": {},
   "outputs": [],
   "source": [
    "# Calculate sample mean and store it on averages array\n",
    "averages = []\n",
    "for i in range(2, 251):\n",
    "    averages.append(describe(sample[0:i]).mean)\n",
    "\n",
    "# Add population mean line and sample mean plot\n",
    "plt.axhline(binom.mean(n=1, p=0.505), color='red')\n",
    "plt.plot(averages, '-')"
   ]
  },
  {
   "cell_type": "markdown",
   "id": "e8b4322b",
   "metadata": {},
   "source": [
    "Instructions 3/3\n",
    "----------------\n",
    "\n",
    "Add a legend with labels `Population mean` and `Sample mean` and show the plot."
   ]
  },
  {
   "cell_type": "code",
   "execution_count": null,
   "id": "67e91f19",
   "metadata": {},
   "outputs": [],
   "source": [
    "# Calculate sample mean and store it on averages array\n",
    "averages = []\n",
    "for i in range(2, 251):\n",
    "    averages.append(describe(sample[0:i]).mean)\n",
    "\n",
    "# Add population mean line and sample mean plot\n",
    "plt.axhline(binom.mean(n=1, p=0.505), color='red')\n",
    "plt.plot(averages, '-')\n",
    "\n",
    "# Add legend\n",
    "plt.legend((\"Population mean\",\"Sample mean\"), loc='upper right')\n",
    "plt.show()"
   ]
  },
  {
   "cell_type": "markdown",
   "id": "309a72fe",
   "metadata": {},
   "source": [
    "1\\. Adding random variables\n",
    "---------------------------\n",
    "\n",
    "00:00 - 00:11\n",
    "\n",
    "The most important result in probability and statistics is the central limit theorem. Let's take a look at what happens when you add random variables.\n",
    "\n",
    "2\\. The central limit theorem (CLT)\n",
    "-----------------------------------\n",
    "\n",
    "00:11 - 00:54\n",
    "\n",
    "The CLT states that the sum of random variables tends to a normal distribution as the number of them grows to infinity. This theorem works under certain conditions: the variables must have the same distribution, and the variables must be independent. You can start adding binomial, geometric, or even Poisson random variables, and as you add more, you get a normal distribution. Recall that random variables are independent when the outcome on one variable does not affect the outcome on the others. Let's see an example.\n",
    "\n",
    "3\\. Poisson sample generation\n",
    "-----------------------------\n",
    "\n",
    "00:54 - 01:22\n",
    "\n",
    "In an example we saw previously about a busy highway with two accidents per day on average, we modeled the number of accidents per day with a Poisson random variable. Now imagine we have the data from 1,000 days. In the following animation you can see on the left the values of our population, and on the right you can see the histogram of the population values. This is our data.\n",
    "\n",
    "4\\. Selection from population\n",
    "-----------------------------\n",
    "\n",
    "01:22 - 01:45\n",
    "\n",
    "Now we are going to take 10 values from our population many times, so we can calculate the sample mean of those values. Notice the red dots. Recall that when calculating the sample mean we are adding the values, and the central limit theorem applies to the sum of random variables that are equally distributed.\n",
    "\n",
    "5\\. Selection from population (Cont.)\n",
    "-------------------------------------\n",
    "\n",
    "01:45 - 01:57\n",
    "\n",
    "Notice the histogram of the population -- it's skewed! Now we are going to repeat this process 350 times and see the outcome.\n",
    "\n",
    "6\\. Poisson sample mean plot\n",
    "----------------------------\n",
    "\n",
    "01:57 - 02:39\n",
    "\n",
    "Take a look at these animations. At the top we have the population. We're highlighting in red the 10 randomly selected values used to calculate the sample means, and plotting those values. At the bottom left we're plotting the sample means, and at the bottom right is a histogram of the sample means. Notice that as we calculate more sample means from our population the histogram is centered at 2, which is the mean of our population, and the histogram takes on a bell shape. That is the magic of the central limit theorem. Now let's code this important result.\n",
    "\n",
    "7\\. Poisson population plot\n",
    "---------------------------\n",
    "\n",
    "02:39 - 03:11\n",
    "\n",
    "First we import poisson and describe from scipy dot stats. Then, from matplotlib we import pyplot as plt, and we import numpy as np. We generate our population with poisson dot rvs with mu equals 2, size equals 1000, and the random_state seed set to reproduce our results. Now we can plot a histogram of our population.\n",
    "\n",
    "8\\. Poisson population plot (Cont.)\n",
    "-----------------------------------\n",
    "\n",
    "03:11 - 03:17\n",
    "\n",
    "This is the plot. It's a Poisson skewed plot of our data. Next, let's plot the sample means.\n",
    "\n",
    "9\\. Sample means plot\n",
    "---------------------\n",
    "\n",
    "03:17 - 03:50\n",
    "\n",
    "We first fix our random seed make the results reproducible. We define an empty list called sample_means to store the sample mean values. Then we write a for statement to loop for and arbitrarily chosen large number of samples like, 350 times. We select 10 values from our population using np dot random dot choice and then we append the sample mean of the 10 values to the sample_means list.\n",
    "\n",
    "10\\. Sample means plot (Cont.)\n",
    "------------------------------\n",
    "\n",
    "03:50 - 04:08\n",
    "\n",
    "Outside the for statement, we add labels and a title to the plot. Finally, we plot and show the histogram. We get a plot centered at 2, which is the mean of the population, with a bell shape as we expected.\n",
    "\n",
    "11\\. Let's add random variables\n",
    "-------------------------------\n",
    "\n",
    "04:08 - 04:29\n",
    "\n",
    "We've finished with the most important results in probability and statistics. After exercising a bit with the central limit theorem, we will work on two applications of probability in data science, linear regression and logistic regression. Let's add random variables!"
   ]
  },
  {
   "cell_type": "markdown",
   "id": "ae839c03",
   "metadata": {},
   "source": [
    "Sample means\n",
    "============\n",
    "\n",
    "An important result in probability and statistics is that the shape of the distribution of the means of random variables tends to a normal distribution, which happens when you add random variables with **any** distribution with the same expected value and variance.\n",
    "\n",
    "For your convenience, we've loaded `binom` and `describe()` from the `scipy.stats` library and imported `matplotlib.pyplot` as `plt` and `numpy` as `np`. We generated a simulated population with size 1,000 that follows a binomial distribution for 10 fair coin flips and is available in the `population` variable.\n",
    "\n",
    "Instructions 1/4\n",
    "----------------\n",
    "\n",
    "Select 20 random values from the `population` using `np.random.choice()`."
   ]
  },
  {
   "cell_type": "code",
   "execution_count": null,
   "id": "d2c3e229",
   "metadata": {},
   "outputs": [],
   "source": [
    "# Create list for sample means\n",
    "sample_means = []\n",
    "for _ in range(1500):\n",
    "\t# Take 20 values from the population\n",
    "    sample = np.random.choice(population, 20)"
   ]
  },
  {
   "cell_type": "markdown",
   "id": "b779e7ba",
   "metadata": {},
   "source": [
    "Instructions 2/4\n",
    "----------------\n",
    "\n",
    "Calculate the sample mean of `sample` and add the calculated sample mean to the `sample_means` list."
   ]
  },
  {
   "cell_type": "code",
   "execution_count": null,
   "id": "b1761eff",
   "metadata": {},
   "outputs": [],
   "source": [
    "# Create list for sample means\n",
    "sample_means = []\n",
    "for _ in range(1500):\n",
    "\t# Take 20 values from the population\n",
    "    sample = np.random.choice(population, 20)\n",
    "    # Calculate the sample mean\n",
    "    sample_means.append(describe(sample).mean)"
   ]
  },
  {
   "cell_type": "markdown",
   "id": "b4749183",
   "metadata": {},
   "source": [
    "Instructions 3/4\n",
    "----------------\n",
    "\n",
    "Plot a histogram of the `sample_means` list."
   ]
  },
  {
   "cell_type": "code",
   "execution_count": null,
   "id": "a4d276ba",
   "metadata": {},
   "outputs": [],
   "source": [
    "# Create list for sample means\n",
    "sample_means = []\n",
    "for _ in range(1500):\n",
    "\t# Take 20 values from the population\n",
    "    sample = np.random.choice(population, 20)\n",
    "    # Calculate the sample mean\n",
    "    sample_means.append(describe(sample).mean)\n",
    "\n",
    "# Plot the histogram\n",
    "plt.hist(sample_means)\n",
    "plt.xlabel(\"Sample mean values\")\n",
    "plt.ylabel(\"Frequency\")\n",
    "plt.show()"
   ]
  },
  {
   "cell_type": "markdown",
   "id": "6e6dd191",
   "metadata": {},
   "source": [
    "Instructions 4/4\n",
    "----------------\n",
    "\n",
    "Question\n",
    "--------\n",
    "\n",
    "Inspecting the plot, what is the distribution of the sample mean?\n",
    "\n",
    "### Possible answers\n",
    "\n",
    "Same as the generated sample\n",
    "\n",
    "Binomial\n",
    "\n",
    "[x] Normal"
   ]
  },
  {
   "cell_type": "markdown",
   "id": "e11a1de0",
   "metadata": {},
   "source": [
    "Sample means follow a normal distribution\n",
    "=========================================\n",
    "\n",
    "In the previous exercise, we generated a population that followed a binomial distribution, chose 20 random samples from the population, and calculated the sample mean. Now we're going to test some other probability distributions to see the shape of the sample means.\n",
    "\n",
    "From the `scipy.stats` library, we've loaded the `poisson` and `geom` objects and the `describe()` function. We've also imported `matplotlib.pyplot` as `plt` and `numpy` as `np`.\n",
    "\n",
    "As you'll see, the shape of the distribution of the means is the same even though the samples are generated from different distributions.\n",
    "\n",
    "Instructions 1/2\n",
    "----------------\n",
    "\n",
    "Select 20 values from the population, add the sample mean to the `sample_means` list, and plot a histogram."
   ]
  },
  {
   "cell_type": "code",
   "execution_count": null,
   "id": "3f02680e",
   "metadata": {},
   "outputs": [],
   "source": [
    "# Generate the population\n",
    "population = geom.rvs(p=0.5, size=1000)\n",
    "\n",
    "# Create list for sample means\n",
    "sample_means = []\n",
    "for _ in range(3000):\n",
    "\t# Take 20 values from the population\n",
    "    sample = np.random.choice(population, 20)\n",
    "    # Calculate the sample mean\n",
    "    sample_means.append(describe(sample).mean)\n",
    "\n",
    "# Plot the histogram\n",
    "plt.hist(sample_means)\n",
    "plt.show()"
   ]
  },
  {
   "cell_type": "markdown",
   "id": "09287b7b",
   "metadata": {},
   "source": [
    "Instructions 2/2\n",
    "----------------\n",
    "\n",
    "-   Select 20 values from the population, add the sample mean to the `sample_means` list, and plot a histogram."
   ]
  },
  {
   "cell_type": "code",
   "execution_count": null,
   "id": "47a7adc5",
   "metadata": {},
   "outputs": [],
   "source": [
    "# Generate the population\n",
    "population = poisson.rvs(mu=2, size=1000)\n",
    "\n",
    "# Create list for sample means\n",
    "sample_means = []\n",
    "for _ in range(1500):\n",
    "\t# Take 20 values from the population\n",
    "     sample = np.random.choice(population, 20)\n",
    "    # Calculate the sample mean\n",
    "     sample_means.append(describe(sample).mean)\n",
    "\n",
    "# Plot the histogram\n",
    "plt.hist(sample_means)\n",
    "plt.show()"
   ]
  },
  {
   "cell_type": "markdown",
   "id": "de75dc7a",
   "metadata": {},
   "source": [
    "Adding dice rolls\n",
    "=================\n",
    "\n",
    "To illustrate the central limit theorem, we are going to work with dice rolls. We'll generate the samples and then add them to plot the outcome.\n",
    "\n",
    "You're provided with a function named `roll_dice()` that will generate the sample dice rolls. `numpy` is already imported as `np` for your convenience: you have to use `np.add(sample1, sample2)` to add samples. Also, `matplotlib.pyplot` is imported as `plt` so you can plot the histograms.\n",
    "\n",
    "Instructions 1/3\n",
    "----------------\n",
    "\n",
    "Generate a sample of `2000` dice rolls using `roll_dice()` and plot a histogram of the sample."
   ]
  },
  {
   "cell_type": "code",
   "execution_count": null,
   "id": "fa1b8ac8",
   "metadata": {},
   "outputs": [],
   "source": [
    "# Configure random generator\n",
    "np.random.seed(42)\n",
    "\n",
    "# Generate the sample\n",
    "sample1 = roll_dice(num_rolls=2000)\n",
    "\n",
    "# Plot the sample\n",
    "plt.hist(sample1, bins=range(1, 8), width=0.9)\n",
    "plt.show()   "
   ]
  },
  {
   "cell_type": "markdown",
   "id": "d457b127",
   "metadata": {},
   "source": [
    "Instructions 2/3\n",
    "----------------\n",
    "\n",
    "-   Generate a sample of `2000` dice rolls using `roll_dice()` and plot a histogram of the sample."
   ]
  },
  {
   "cell_type": "code",
   "execution_count": null,
   "id": "fcd1941a",
   "metadata": {},
   "outputs": [],
   "source": [
    "# Configure random generator\n",
    "np.random.seed(42)\n",
    "\n",
    "# Generate two samples of 2000 dice rolls\n",
    "sample1 = roll_dice(2000)\n",
    "sample2 = roll_dice(2000)\n",
    "\n",
    "# Add the first two samples\n",
    "sum_of_1_and_2 = np.add(sample1, sample2)\n",
    "\n",
    "# Plot the sum\n",
    "plt.hist(sum_of_1_and_2, bins=range(2, 14), width=0.9)\n",
    "plt.show()"
   ]
  },
  {
   "cell_type": "markdown",
   "id": "a308e732",
   "metadata": {},
   "source": [
    "Instructions 3/3\n",
    "----------------\n",
    "\n",
    "-   Add `sample1` and `sample2` using `np.add()`, store the result in the variable `sum_of_1_and_2`, then plot `sum_of_1_and_2`."
   ]
  },
  {
   "cell_type": "code",
   "execution_count": null,
   "id": "c9bb1804",
   "metadata": {},
   "outputs": [],
   "source": [
    "# Configure random generator\n",
    "np.random.seed(42)\n",
    "\n",
    "# Generate the samples\n",
    "sample1 = roll_dice(2000)\n",
    "sample2 = roll_dice(2000)\n",
    "sample3 = roll_dice(2000)  # Generate the third sample\n",
    "\n",
    "# Add the first two samples\n",
    "sum_of_1_and_2 = np.add(sample1, sample2)\n",
    "\n",
    "# Add the first two with the third sample\n",
    "sum_of_3_samples = np.add(sum_of_1_and_2, sample3)\n",
    "\n",
    "# Plot the result\n",
    "plt.hist(sum_of_3_samples, bins=range(3, 20), width=0.9)\n",
    "plt.show()"
   ]
  }
 ],
 "metadata": {
  "kernelspec": {
   "display_name": "base",
   "language": "python",
   "name": "python3"
  },
  "language_info": {
   "name": "python",
   "version": "3.12.7"
  }
 },
 "nbformat": 4,
 "nbformat_minor": 5
}
