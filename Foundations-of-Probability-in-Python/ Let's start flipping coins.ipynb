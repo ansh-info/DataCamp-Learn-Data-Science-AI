{
 "cells": [
  {
   "cell_type": "markdown",
   "id": "1be2a700",
   "metadata": {},
   "source": [
    "1\\. Let's flip a coin in Python\n",
    "-------------------------------\n",
    "\n",
    "00:00 - 00:36\n",
    "\n",
    "Hi, I'm Alexander Ramirez, the CEO at Synergy Vision, which focuses on financial data science. This course is intended for people with basic knowledge about Python and familiarity with statistics. At the end of the course you'll have an understanding of basic probability concepts like random variables, calculations, probability distributions, and important results like the law of large numbers. We'll illustrate these concepts using simulations with Python."
   ]
  },
  {
   "cell_type": "markdown",
   "id": "376bb5bc",
   "metadata": {},
   "source": [
    "2\\. Probability\n",
    "---------------\n",
    "\n",
    "00:36 - 00:56\n",
    "\n",
    "Probability is the foundation of many of the methods and models in data science. Statistical inference methods use data to understand the underlying processes behind the data. With probability, we can study the regularities that arise in random phenomena.\n",
    "\n",
    "- Foundation of Data Science\n",
    "- Allows to produce data from models\n",
    "- Study regularities in random phenomena\n"
   ]
  },
  {
   "cell_type": "markdown",
   "id": "28b72c55",
   "metadata": {},
   "source": [
    "3\\. Gain intuition\n",
    "------------------\n",
    "\n",
    "00:56 - 01:14\n",
    "\n",
    "Let's try to gain some intuition about probability by starting with the classic random experiment, a coin flip. We'll start simulating with Python and learn to calculate probabilities and work with probability distributions.\n",
    "\n",
    "```markdown\n",
    "...with coin flips\n",
    "          O\n",
    "       ___|______\n",
    "      |         |\n",
    "      |         |\n",
    "      |  \\_____/|   \n",
    "      |    |     |    <- Coin\n",
    "      |   /      |\n",
    "      |  |       |\n",
    "      |  |       |\n",
    "       \\ |_______/\n",
    "        |       \n",
    "  ______|______\n",
    " /      |      \\\n",
    "|  Hand |       |\n",
    "|_______|_______|   <- Hand tossing coin\n",
    "```"
   ]
  },
  {
   "cell_type": "markdown",
   "id": "dacc769d",
   "metadata": {},
   "source": [
    "4\\. Only two outcomes\n",
    "---------------------\n",
    "\n",
    "01:14 - 02:08\n",
    "\n",
    "If you flip a coin there are two possible outcomes: heads or tails. This random experiment is called a Bernoulli trial, after Jacob Bernoulli. A Bernoulli trial is one where the possible outcomes are binary: they can be modeled as success or failure, yes or no, or on or off. In this case the experiment is the flip of a coin; the possible outcomes are success (getting heads) or failure (getting tails). Each outcome is called an event. You assign probabilities to events. With a fair coin you have a 50% chance of getting heads and a 50% chance of getting tails for each event.\n",
    "\n",
    "```markdown\n",
    "Heads or Tails:\n",
    "     _______\n",
    "    /       \\\n",
    "   |   IN    |\n",
    "   |  GOD WE |\n",
    "   |  TRUST  |   <- Heads (Lincoln's side)\n",
    "   |         |\n",
    "   | LIBERTY |\n",
    "    \\_______/\n",
    "    \n",
    "         |   \n",
    "         | (flip)\n",
    "         |\n",
    "    _______\n",
    "   /       \\\n",
    "  | UNITED  |\n",
    "  | STATES  |   <- Tails (Lincoln Memorial side)\n",
    "  | OF      |\n",
    "  | AMERICA |\n",
    "  | ONE CENT|\n",
    "   \\_______/\n",
    "```"
   ]
  },
  {
   "cell_type": "markdown",
   "id": "e77bc6e1",
   "metadata": {},
   "source": [
    "5\\. Flipping a coin in Python\n",
    "-----------------------------\n",
    "\n",
    "02:08 - 02:53\n",
    "\n",
    "To simulate the coin flips, we will use the bernoulli object from the Python library scipy dot stats. We can call bernoulli dot rvs, specifying two arguments, to generate random variates. The first argument is p, the probability of success, which in this case is 0.5; the second is size, which is the number of coin flips, in this case 1. The result of the first call was 0, or tails. After executing the call a second time we got 1, or heads.\n",
    "\n",
    "```python\n",
    "from scipy.stats import bernoulli\n",
    "\n",
    "# Bernoulli random experiment\n",
    "bernoulli.rvs(p=0.5, size=1)\n",
    "```\n",
    "```plaintext\n",
    "array([0])\n",
    "```\n",
    "\n",
    "```python\n",
    "# Another draw\n",
    "bernoulli.rvs(p=0.5, size=1)\n",
    "```\n",
    "```plaintext\n",
    "array([1])\n",
    "```"
   ]
  },
  {
   "cell_type": "markdown",
   "id": "3a0ee887",
   "metadata": {},
   "source": [
    "6\\. Flipping multiple coins\n",
    "---------------------------\n",
    "\n",
    "02:53 - 03:08\n",
    "\n",
    "For 10 coin flips, size equals 10. We can use sum to know how many heads we got. The first time, we got 5 heads and 5 tails.\n",
    "\n",
    "```python\n",
    "# Change size parameter to flip more...\n",
    "bernoulli.rvs(p=0.5, size=10)\n",
    "```\n",
    "```plaintext\n",
    "array([0, 0, 0, 0, 0, 0, 1, 1, 0, 0])\n",
    "```\n",
    "\n",
    "```python\n",
    "# How many heads?\n",
    "sum(bernoulli.rvs(p=0.5, size=10))\n",
    "```\n",
    "```plaintext\n",
    "5\n",
    "```"
   ]
  },
  {
   "cell_type": "markdown",
   "id": "77012485",
   "metadata": {},
   "source": [
    "7\\. Flipping multiple coins (Cont.)\n",
    "-----------------------------------\n",
    "\n",
    "03:08 - 03:13\n",
    "\n",
    "After another draw, we got 2 heads and 8 tails. So, we can appreciate the randomness.\n",
    "\n",
    "```python\n",
    "# Another draw...\n",
    "sum(bernoulli.rvs(p=0.5, size=10))\n",
    "```\n",
    "```plaintext\n",
    "2\n",
    "```"
   ]
  },
  {
   "cell_type": "markdown",
   "id": "fad78740",
   "metadata": {},
   "source": [
    "8\\. Flipping multiple coins (Cont.)\n",
    "-----------------------------------\n",
    "\n",
    "03:13 - 03:59\n",
    "\n",
    "A sequence of independent Bernoulli trials follows the binomial distribution. So, instead of using the bernoulli object and adding the outcomes, we can use the binomial distribution and the binom object. We'll use three arguments: n for the number of coin flips, p for the probability of success, and size for the number of draws of the same experiment. On the first execution we got 7 heads out of 10 flips. Let's try 10 more times. As we can see, 5 is the result that repeats most often for a fair coin.\n",
    "\n",
    "```python\n",
    "from scipy.stats import binom\n",
    "\n",
    "# Binomial random variable\n",
    "binom.rvs(n=10, p=0.5, size=1)\n",
    "```\n",
    "```plaintext\n",
    "array([7])\n",
    "```\n",
    "\n",
    "```python\n",
    "# Many draws\n",
    "binom.rvs(n=10, p=0.5, size=10)\n",
    "```\n",
    "```plaintext\n",
    "array([6, 2, 3, 5, 5, 5, 5, 4, 6, 6])\n",
    "```"
   ]
  },
  {
   "cell_type": "markdown",
   "id": "f314f813",
   "metadata": {},
   "source": [
    "9\\. Flipping multiple coins (Cont.)\n",
    "-----------------------------------\n",
    "\n",
    "03:59 - 04:15\n",
    "\n",
    "We can also change the probability of getting heads to 0.3, and see how that affects the results. As you may notice already, we can observe different outcomes using biased coins.\n",
    "\n",
    "```python\n",
    "# Biased coin draws\n",
    "binom.rvs(n=10, p=0.3, size=10)\n",
    "```\n",
    "```plaintext\n",
    "array([3, 4, 3, 3, 2, 2, 2, 2, 3, 6])\n",
    "```"
   ]
  },
  {
   "cell_type": "markdown",
   "id": "1ee53c5c",
   "metadata": {},
   "source": [
    "10\\. Random generator seed\n",
    "--------------------------\n",
    "\n",
    "04:15 - 04:54\n",
    "\n",
    "We use random number generators to simulate the outcome of random experiment. If you run the same command with the same random seed, you will always get the same result. In Python we need to set a seed for the generator to produce similar outcomes in each experiment. Then we can check if the results are what we expected. We have two options to configure the generator: using the random_state parameter of the rvs function or using numpy dot random dot seed.\n",
    "\n",
    "```python\n",
    "# Use the random_state parameter of the rvs() function\n",
    "from scipy.stats import binom\n",
    "binom.rvs(n=10, p=0.5, size=1, random_state=42)\n",
    "```\n",
    "\n",
    "```python\n",
    "# Use numpy.random.seed()\n",
    "import numpy as np\n",
    "np.random.seed(42)\n",
    "```"
   ]
  },
  {
   "cell_type": "markdown",
   "id": "fe181ca1",
   "metadata": {},
   "source": [
    "11\\. Random generator seed (Cont.)\n",
    "----------------------------------\n",
    "\n",
    "04:54 - 05:00\n",
    "\n",
    "For convenience, we will mostly use the numpy method throughout this course.\n",
    "\n",
    "```python\n",
    "from scipy.stats import binom\n",
    "import numpy as np\n",
    "\n",
    "np.random.seed(42)\n",
    "binom.rvs(n=10, p=0.5, size=1)\n",
    "```\n",
    "\n",
    "```python\n",
    "array([4])\n",
    "```"
   ]
  },
  {
   "cell_type": "markdown",
   "id": "495d9bd1",
   "metadata": {},
   "source": [
    "12\\. Let's practice flipping coins in Python\n",
    "--------------------------------------------\n",
    "\n",
    "05:00 - 05:12\n",
    "\n",
    "We can do some more experiments like this to get a sense about the outcomes that are most likely. So, let's practice flipping coins in Python!"
   ]
  },
  {
   "cell_type": "markdown",
   "id": "1ef19c01",
   "metadata": {},
   "source": [
    "Flipping coins\n",
    "==============\n",
    "\n",
    "This exercise requires the `bernoulli` object from the `scipy.stats` library to simulate the two possible outcomes from a coin flip, `1`(\"heads\") or `0` (\"tails\"), and the `numpy` library (loaded as `np`) to set the random generator seed.\n",
    "\n",
    "You'll use the `bernoulli.rvs()` function to simulate coin flips using the `size` argument. \n",
    "\n",
    "You will set the random seed so you can reproduce the results for the random experiment in each exercise.\n",
    "\n",
    "From each experiment, you will get the values of each coin flip. You can add the coin flips to get the number of heads after flipping 10 coins using the `sum()` function.\n",
    "\n",
    "Instructions 1/3\n",
    "----------------\n",
    "\n",
    "-   Import `bernoulli` from `scipy.stats`, set the seed with `np.random.seed()`. Simulate 1 flip, with a 35% chance of heads."
   ]
  },
  {
   "cell_type": "code",
   "execution_count": null,
   "id": "0a4979e1",
   "metadata": {},
   "outputs": [],
   "source": [
    "# Import the bernoulli object from scipy.stats\n",
    "from scipy.stats import bernoulli\n",
    "\n",
    "# Set the random seed to reproduce the results\n",
    "np.random.seed(42)\n",
    "\n",
    "# Simulate one coin flip with 35% chance of getting heads\n",
    "coin_flip = bernoulli.rvs(p=.35, size=1)\n",
    "print(coin_flip)"
   ]
  },
  {
   "cell_type": "markdown",
   "id": "d5b69eed",
   "metadata": {},
   "source": [
    "Instructions 2/3\n",
    "----------------\n",
    "\n",
    "-   Use `bernoulli.rvs()` and `sum()` to get the number of heads after 10 coin flips with 35% chance of getting heads."
   ]
  },
  {
   "cell_type": "code",
   "execution_count": null,
   "id": "a8bf1393",
   "metadata": {},
   "outputs": [],
   "source": [
    "# Import the bernoulli object from scipy.stats\n",
    "from scipy.stats import bernoulli\n",
    "\n",
    "# Set the random seed to reproduce the results\n",
    "np.random.seed(42)\n",
    "\n",
    "# Simulate ten coin flips and get the number of heads\n",
    "ten_coin_flips = bernoulli.rvs(p=.35, size=10)\n",
    "coin_flips_sum = sum(ten_coin_flips)\n",
    "print(coin_flips_sum)"
   ]
  },
  {
   "cell_type": "markdown",
   "id": "7351b36f",
   "metadata": {},
   "source": [
    "Instructions 3/3\n",
    "----------------\n",
    "\n",
    "-   Using `bernoulli.rvs()` and `sum()`, try to get the number of heads after 5 flips with a 50% chance of getting heads."
   ]
  },
  {
   "cell_type": "code",
   "execution_count": null,
   "id": "680b26b4",
   "metadata": {},
   "outputs": [],
   "source": [
    "# Import the bernoulli object from scipy.stats\n",
    "from scipy.stats import bernoulli\n",
    "\n",
    "# Set the random seed to reproduce the results\n",
    "np.random.seed(42)\n",
    "\n",
    "# Simulate ten coin flips and get the number of heads\n",
    "five_coin_flips = bernoulli.rvs(p=0.5, size=5)\n",
    "coin_flips_sum = sum(five_coin_flips)\n",
    "print(coin_flips_sum)"
   ]
  },
  {
   "cell_type": "markdown",
   "id": "60e37601",
   "metadata": {},
   "source": [
    "Using binom to flip even more coins\n",
    "===================================\n",
    "\n",
    "Previously, you simulated 10 coin flips with a 35% chance of getting heads using `bernoulli.rvs()`.\n",
    "\n",
    "This exercise loads the `binom` object from `scipy.stats` so you can use `binom.rvs()` to simulate 20 trials of 10 coin flips with a 35% chance of getting heads on each coin flip.\n",
    "\n",
    "Instructions\n",
    "------------\n",
    "\n",
    "-   Use the `binom.rvs()` function to simulate 20 trials of 10 coin flips with a 35% chance of getting heads."
   ]
  },
  {
   "cell_type": "code",
   "execution_count": null,
   "id": "089aab7c",
   "metadata": {},
   "outputs": [],
   "source": [
    "# Set the random seed to reproduce the results\n",
    "np.random.seed(42)\n",
    "\n",
    "# Simulate 20 trials of 10 coin flips \n",
    "draws = binom.rvs(n=10, p=.35, size=20)\n",
    "print(draws)"
   ]
  },
  {
   "cell_type": "markdown",
   "id": "b49bba7a",
   "metadata": {},
   "source": [
    "1\\. Probability mass and distribution functions\n",
    "-----------------------------------------------\n",
    "\n",
    "00:00 - 00:22\n",
    "\n",
    "After conducting many random experiments, you will notice that some outcomes are more likely than others. This is called a probability distribution. There are two important functions that are useful for probability calculations: the probability mass function and the cumulative distribution function.\n"
   ]
  },
  {
   "cell_type": "markdown",
   "id": "36ced86a",
   "metadata": {},
   "source": [
    "2\\. Probability mass function (pmf)\n",
    "-----------------------------------\n",
    "\n",
    "00:22 - 00:49\n",
    "\n",
    "A discrete random variable has a finite number of possible outcomes. The probability mass function allows you to calculate the probability of getting a particular outcome for a discrete random variable. The binomial probability mass function allows you to calculate the probability of getting k heads from n coin flips with p probability of getting heads.\n",
    "\n",
    "$binomial.pmf(k, n, p) = \\binom{n}{k} p^k (1 - p)^{n - k}$"
   ]
  },
  {
   "cell_type": "markdown",
   "id": "20724020",
   "metadata": {},
   "source": [
    "3\\. Probability mass function (pmf)\n",
    "-----------------------------------\n",
    "\n",
    "00:49 - 00:54\n",
    "\n",
    "The formula multiplies the number of different ways that you can get k successes out of n coin flips...\n",
    "\n",
    "$binomial.pmf(k, n, p) = \\color{red}{\\binom{n}{k}} p^k (1 - p)^{n - k}$"
   ]
  },
  {
   "cell_type": "markdown",
   "id": "4eb41995",
   "metadata": {},
   "source": [
    "4\\. Probability mass function (pmf) (Cont.)\n",
    "-------------------------------------------\n",
    "\n",
    "00:54 - 00:59\n",
    "\n",
    "by the probability of success raised to the number of successes, k...\n",
    "\n",
    "$binomial.pmf(k, n, p) = \\binom{n}{k} \\color{red}{p^k} (1 - p)^{n - k}$"
   ]
  },
  {
   "cell_type": "markdown",
   "id": "4053f47b",
   "metadata": {},
   "source": [
    "5\\. Probability mass function (pmf) (Cont.)\n",
    "-------------------------------------------\n",
    "\n",
    "00:59 - 01:13\n",
    "\n",
    "by the probability of failure, 1 - p, raised to the number of failures, n - k. It's okay if you don't understand the formula right now. With practice, your intuition about this will grow.\n",
    "\n",
    "$binomial.pmf(k, n, p) = \\binom{n}{k} p^k \\color{red}{(1 - p)^{n - k}}$"
   ]
  },
  {
   "cell_type": "markdown",
   "id": "57c6d281",
   "metadata": {},
   "source": [
    "6\\. Probability mass function (pmf)\n",
    "-----------------------------------\n",
    "\n",
    "01:13 - 01:25\n",
    "\n",
    "If we plot the probability mass function of getting k heads out of 10 fair coin flips, you can see that 5 is the most likely outcome.\n",
    "\n",
    "### Binomial Distribution PMF\n",
    "\n",
    "**binom.pmf(k=5, n=10, p=0.5) = 24.6%**\n",
    "\n",
    "| k  | P(X = k) |\n",
    "|----|----------|\n",
    "| 0  | 0.001    |\n",
    "| 1  | 0.010    |\n",
    "| 2  | 0.044    |\n",
    "| 3  | 0.117    |\n",
    "| 4  | 0.205    |\n",
    "| 5  | **0.246** |\n",
    "| 6  | 0.205    |\n",
    "| 7  | 0.117    |\n",
    "| 8  | 0.044    |\n",
    "| 9  | 0.010    |\n",
    "| 10 | 0.001    |\n",
    "\n",
    "The binomial probability mass function (PMF) is:\n",
    "\n",
    "$$\n",
    "P(X = k) = \\binom{n}{k} p^k (1 - p)^{n-k}\n",
    "$$\n",
    "\n",
    "For \\( n = 10 \\), \\( p = 0.5 \\), the most likely outcome is \\( k = 5 \\), with probability:\n",
    "\n",
    "$$\n",
    "P(X = 5) = \\binom{10}{5} (0.5)^5 (1 - 0.5)^{5} = 0.246\n",
    "$$"
   ]
  },
  {
   "cell_type": "markdown",
   "id": "915c26ea",
   "metadata": {},
   "source": [
    "7\\. Probability mass function (pmf) (Cont.)\n",
    "-------------------------------------------\n",
    "\n",
    "01:25 - 01:33\n",
    "\n",
    "With the scipy dot stats library we can use the binom dot pmf function to calculate this probability.\n",
    "\n",
    "$binomial.pmf(k, n, p) = \\binom{n}{k} p^k (1 - p)^{n - k}$\n",
    "\n",
    "**In Python:**\n",
    "\n",
    "```python\n",
    "binom.pmf(k, n, p)\n",
    "```\n",
    "\n",
    "```"
   ]
  },
  {
   "cell_type": "markdown",
   "id": "44f3d6a5",
   "metadata": {},
   "source": [
    "8\\. Calculating probabilities with `binom.pmf()`\n",
    "------------------------------------------------\n",
    "\n",
    "01:33 - 01:59\n",
    "\n",
    "If you use binom dot pmf with parameters k equals 2, n equals 10, and p equals 0.5 you get the probability of getting 2 heads from 10 flips of a fair coin -- that is, 4%. The probability of getting 5 heads from 10 coin flips is almost 25%.\n",
    "\n",
    "```python\n",
    "# Probability of 2 heads after 10 throws with a fair coin\n",
    "binom.pmf(k=2, n=10, p=0.5)\n",
    "```\n",
    "\n",
    "```python\n",
    "0.04394531249999999\n",
    "```\n",
    "\n",
    "```python\n",
    "# Probability of 5 heads after 10 throws with a fair coin\n",
    "binom.pmf(k=5, n=10, p=0.5)\n",
    "```\n",
    "\n",
    "```python\n",
    "0.24609375000000003\n",
    "```"
   ]
  },
  {
   "cell_type": "markdown",
   "id": "c00bbccd",
   "metadata": {},
   "source": [
    "9\\. Calculating probabilities with binom.pmf() (Cont.)\n",
    "------------------------------------------------------\n",
    "\n",
    "01:59 - 02:34\n",
    "\n",
    "The probability of getting 50 heads out of 100 flips of a biased coin with 30% probability of getting heads is extremely small: not even a 1% chance. If instead you calculate the probability of getting 65 heads from 100 flips of a biased coin with 70% probability of getting heads, you see that it's almost 5%. As n gets larger, the probability of getting k heads becomes smaller for the same p.\n",
    "\n",
    "```python\n",
    "# Probability of 50 heads after 100 throws with p=0.3\n",
    "binom.pmf(k=50, n=100, p=0.3)\n",
    "```\n",
    "\n",
    "```python\n",
    "1.3026227131445298e-05\n",
    "```\n",
    "\n",
    "```python\n",
    "# Probability of 65 heads after 100 throws with p=0.7\n",
    "binom.pmf(k=65, n=100, p=0.7)\n",
    "```\n",
    "\n",
    "```python\n",
    "0.0467796823527298\n",
    "```"
   ]
  },
  {
   "cell_type": "markdown",
   "id": "83d3f83f",
   "metadata": {},
   "source": [
    "10\\. Probability distribution function (cdf)\n",
    "--------------------------------------------\n",
    "\n",
    "02:34 - 02:47\n",
    "\n",
    "If you instead want to calculate the probability of getting k or fewer heads from n throws, you use the binomial probability distribution function, which adds the probabilities of...\n",
    "\n",
    "\n",
    "$binomial.cdf(k, n, p) = \\binom{n}{0} p^0 (1 - p)^n + \\binom{n}{1} p (1 - p)^{n - 1} + \\dots + \\binom{n}{k} p^k (1 - p)^{n - k}$\n"
   ]
  },
  {
   "cell_type": "markdown",
   "id": "93536dcc",
   "metadata": {},
   "source": [
    "11\\. Probability distribution function (cdf) (Cont.)\n",
    "----------------------------------------------------\n",
    "\n",
    "02:47 - 02:50\n",
    "\n",
    "getting 0 heads out of n flips...\n",
    "\n",
    "\n",
    "$binomial.cdf(k, n, p) = \\color{red}{\\binom{n}{0} p^0 (1 - p)^n} + \\binom{n}{1} p (1 - p)^{n - 1} + \\dots + \\binom{n}{k} p^k (1 - p)^{n - k}$\n"
   ]
  },
  {
   "cell_type": "markdown",
   "id": "60fe9abb",
   "metadata": {},
   "source": [
    "12\\. Probability distribution function (cdf) (Cont.)\n",
    "----------------------------------------------------\n",
    "\n",
    "02:50 - 02:54\n",
    "\n",
    "getting heads once out of n flips...\n",
    "\n",
    "\n",
    "$binomial.cdf(k, n, p) = \\binom{n}{0} p^0 (1 - p)^n + \\color{red}{\\binom{n}{1} p (1 - p)^{n - 1}} + \\dots + \\binom{n}{k} p^k (1 - p)^{n - k}$\n"
   ]
  },
  {
   "cell_type": "markdown",
   "id": "ab53a80a",
   "metadata": {},
   "source": [
    "13\\. Probability distribution function (cdf) (Cont.)\n",
    "----------------------------------------------------\n",
    "\n",
    "02:54 - 02:57\n",
    "\n",
    "and getting all the way up to k heads out of n flips.\n",
    "\n",
    "\n",
    "$binomial.cdf(k, n, p) = \\binom{n}{0} p^0 (1 - p)^n + \\binom{n}{1} p (1 - p)^{n - 1} + \\dots + \\color{red}{\\binom{n}{k} p^k (1 - p)^{n - k}}$\n"
   ]
  },
  {
   "cell_type": "markdown",
   "id": "8f149a04",
   "metadata": {},
   "source": [
    "14\\. Cumulative distribution function (cdf)\n",
    "-------------------------------------------\n",
    "\n",
    "02:57 - 03:34\n",
    "\n",
    "The binomial probability distribution function allows us to calculate the cumulative probability of getting k heads or fewer from n coin flips with p probability of getting heads. In Python we use the binom dot cdf function with parameters k, n, and p. Adding the probabilities from the mass function, we get the cumulative distribution function (cdf). This is a way of getting a range of probabilities rather than the probability of a single event.\n",
    "\n",
    "\n",
    "**Left: Binomial Distribution PMF**\n",
    "\n",
    "$binom.cdf(k=5, n=10, p=0.5)$\n",
    "\n",
    "| k  | P(X = k) |\n",
    "|----|----------|\n",
    "| 0  | 0.001    |\n",
    "| 1  | 0.010    |\n",
    "| 2  | 0.044    |\n",
    "| 3  | 0.117    |\n",
    "| 4  | 0.205    |\n",
    "| 5  | **0.246** |\n",
    "| 6  | 0.205    |\n",
    "| 7  | 0.117    |\n",
    "| 8  | 0.044    |\n",
    "| 9  | 0.010    |\n",
    "| 10 | 0.001    |\n",
    "\n",
    "---\n",
    "\n",
    "**Right: Standard Normal Distribution PDF**\n",
    "\n",
    "$norm.cdf(0) \\approx 0.5$\n",
    "\n",
    "The shaded region under the standard normal curve from $-\\infty$ to $0$ corresponds to 50% of the distribution.\n"
   ]
  },
  {
   "cell_type": "markdown",
   "id": "6d2d3a88",
   "metadata": {},
   "source": [
    "15\\. Cumulative distribution function (cdf) (Cont.)\n",
    "---------------------------------------------------\n",
    "\n",
    "03:34 - 03:44\n",
    "\n",
    "With the scipy dot stats library, we can use the binom dot cdf function to get such a probability using the same parameters.\n",
    "\n",
    "\n",
    "$binomial.cdf(k, n, p) = \\binom{n}{0} p^0 (1 - p)^n + \\binom{n}{1} p (1 - p)^{n - 1} + \\dots + \\binom{n}{k} p^k (1 - p)^{n - k}$\n",
    "\n",
    "**In Python:**\n",
    "\n",
    "```python\n",
    "binom.cdf(k=1, n=3, p=0.5)\n",
    "```\n"
   ]
  },
  {
   "cell_type": "markdown",
   "id": "341001f0",
   "metadata": {},
   "source": [
    "16\\. Calculating cumulative probabilities\n",
    "-----------------------------------------\n",
    "\n",
    "03:44 - 04:17\n",
    "\n",
    "If you use binom dot cdf with parameters k equals 5, n equals 10, and p equals 0.5 you get the probability of getting heads 5 times or fewer out of 10 flips, which is 62%. The probability of getting heads 50 times or fewer out of 100 flips of a biased coin with 30% probability of getting heads is near 100%. It's almost guaranteed.\n",
    "\n",
    "```python\n",
    "# Probability of 5 heads or less after 10 throws with a fair coin\n",
    "binom.cdf(k=5, n=10, p=0.5)\n",
    "```\n",
    "\n",
    "```python\n",
    "0.6230468749999999\n",
    "```\n",
    "\n",
    "```python\n",
    "# Probability of 50 heads or less after 100 throws with p=0.3\n",
    "binom.cdf(k=50, n=100, p=0.3)\n",
    "```\n",
    "\n",
    "```python\n",
    "0.9999909653138043\n",
    "```"
   ]
  },
  {
   "cell_type": "markdown",
   "id": "b776c997",
   "metadata": {},
   "source": [
    "17\\. Calculating cumulative probabilities (Cont.)\n",
    "-------------------------------------------------\n",
    "\n",
    "04:17 - 05:03\n",
    "\n",
    "The probability of getting heads more than 59 times from 100 flips of a biased coin with p equal to 70% is 99% -- again, it's almost certain. What if we want the probability of getting heads more than k times? This is called the complement, and we get it by subtracting the CDF from 1. Alternatively, we can calculate the complement using the function binom dot sf with the same parameters. sf stands for survival function, which allows you to get tail probabilities, or the complement in this case.\n",
    "\n",
    "```python\n",
    "# Probability of more than 59 heads after 100 throws with p=0.7\n",
    "1 - binom.cdf(k=59, n=100, p=0.7)\n",
    "```\n",
    "\n",
    "```python\n",
    "0.9875015928335618\n",
    "```\n",
    "\n",
    "```python\n",
    "# Probability of more than 59 heads after 100 throws with p=0.7\n",
    "binom.sf(k=59, n=100, p=0.7)\n",
    "```\n",
    "\n",
    "```python\n",
    "0.9875015928335618\n",
    "```"
   ]
  },
  {
   "cell_type": "markdown",
   "id": "3b799b9d",
   "metadata": {},
   "source": [
    "18\\. Let's calculate some probabilities\n",
    "---------------------------------------\n",
    "\n",
    "05:03 - 05:08\n",
    "\n",
    "We've had some fun calculating probabilities. Now let's practice some more."
   ]
  },
  {
   "cell_type": "markdown",
   "id": "19ef3f7d",
   "metadata": {},
   "source": [
    "Predicting the probability of defects\n",
    "=====================================\n",
    "\n",
    "Any situation with exactly two possible outcomes can be modeled with **binomial**random variables. For example, you could model if someone likes or dislikes a product, or if they voted or not.\n",
    "\n",
    "Let's model whether or not a component from a supplier comes with a defect. From the thousands of components that we got from a supplier, we are going to take a sample of 50, selected randomly. The agreed and accepted defect rate is 2%.\n",
    "\n",
    "We import the `binom` object from `scipy.stats`. \n",
    "\n",
    "Recall that:\n",
    "\n",
    "-   `binom.pmf()` calculates the probability of having exactly `k` heads out of `n` coin flips.\n",
    "-   `binom.cdf()` calculates the probability of having `k` heads or less out of `n` coin flips.\n",
    "-   `binom.sf()` calculates the probability of having more than `k` heads out of `n` coin flips.\n",
    "\n",
    "Instructions 1/4\n",
    "----------------\n",
    "\n",
    "Question\n",
    "--------\n",
    "\n",
    "Let's answer a simple question before we start calculating probabilities:\n",
    "\n",
    "-   What is the probability of getting more than 20 heads from a fair coin after 30 coin flips?\n",
    "\n",
    "### Possible answers\n",
    "\n",
    "`binom.pmf(k=20, n=30, p=0.5)`\n",
    "\n",
    "[x] `1 - binom.pmf(k=20, n=30, p=0.5)`\n",
    "\n",
    "`binom.sf(k=20, n=30, p=0.5)`\n",
    "\n",
    "`binom.cdf(k=20, n=30, p=0.5)`"
   ]
  },
  {
   "cell_type": "markdown",
   "id": "edef3bbd",
   "metadata": {},
   "source": [
    "Instructions 2/4\n",
    "----------------\n",
    "\n",
    "Let's get started with our model for defective components. \n",
    "\n",
    "First, calculate the probability of getting exactly 1 defective component."
   ]
  },
  {
   "cell_type": "code",
   "execution_count": null,
   "id": "d3ed1bdc",
   "metadata": {},
   "outputs": [],
   "source": [
    "# Probability of getting exactly 1 defective component\n",
    "prob_one_defect = binom.pmf(k=1, n=50, p=0.02)\n",
    "print(prob_one_defect)"
   ]
  },
  {
   "cell_type": "markdown",
   "id": "45ac6810",
   "metadata": {},
   "source": [
    "Instructions 3/4\n",
    "----------------\n",
    "\n",
    "Next, calculate the probability of not getting any defective components."
   ]
  },
  {
   "cell_type": "code",
   "execution_count": null,
   "id": "0e66213e",
   "metadata": {},
   "outputs": [],
   "source": [
    "# Probability of not getting any defective components\n",
    "prob_no_defects = binom.pmf(k=0, n=50, p=0.02)\n",
    "print(prob_no_defects)"
   ]
  },
  {
   "cell_type": "markdown",
   "id": "a96a094d",
   "metadata": {},
   "source": [
    "Instructions 4/4\n",
    "----------------\n",
    "\n",
    "Now calculate the probability of getting 2 or fewer defective components out of 50."
   ]
  },
  {
   "cell_type": "code",
   "execution_count": null,
   "id": "63bb04f6",
   "metadata": {},
   "outputs": [],
   "source": [
    "# Probability of getting 2 or less defective components\n",
    "prob_two_or_less_defects = binom.cdf(k=2, n=50, p=0.02)\n",
    "print(prob_two_or_less_defects)"
   ]
  },
  {
   "cell_type": "markdown",
   "id": "a92a9e76",
   "metadata": {},
   "source": [
    "Predicting employment status\n",
    "============================\n",
    "\n",
    "Consider a survey about employment that contains the question \"Are you employed?\" It is known that 65% of respondents will answer \"yes.\" Eight survey responses have been collected.\n",
    "\n",
    "We load the `binom` object from `scipy.stats`with the following code:`from scipy.stats import binom`\n",
    "\n",
    "Answer the following questions using `pmf()`, `cdf()`, and `sf()`.\n",
    "\n",
    "Instructions 1/3\n",
    "----------------\n",
    "\n",
    "-   Calculate the probability of getting exactly 5 **yes** responses."
   ]
  },
  {
   "cell_type": "code",
   "execution_count": null,
   "id": "00cea626",
   "metadata": {},
   "outputs": [],
   "source": [
    "# Calculate the probability of getting exactly 5 yes responses\n",
    "prob_five_yes = binom.pmf(k=5, n=8, p=0.65)\n",
    "print(prob_five_yes)"
   ]
  },
  {
   "cell_type": "markdown",
   "id": "a1a09d4b",
   "metadata": {},
   "source": [
    "Instructions 2/3\n",
    "----------------\n",
    "\n",
    "-   Calculate the probability of getting 3 or fewer **no** responses."
   ]
  },
  {
   "cell_type": "code",
   "execution_count": null,
   "id": "421bbaf9",
   "metadata": {},
   "outputs": [],
   "source": [
    "# Calculate the probability of getting 3 or less no responses\n",
    "prob_three_or_less_no = binom.cdf(k=3, n=8, p=0.35)\n",
    "print(prob_three_or_less_no)"
   ]
  },
  {
   "cell_type": "markdown",
   "id": "25eb6a80",
   "metadata": {},
   "source": [
    "Instructions 3/3\n",
    "----------------\n",
    "\n",
    "-   Calculate the probability of getting more than 3 **yes** responses using `binom.sf()`."
   ]
  },
  {
   "cell_type": "code",
   "execution_count": null,
   "id": "db4f48b0",
   "metadata": {},
   "outputs": [],
   "source": [
    "# Calculate the probability of getting more than 3 yes responses\n",
    "prob_more_than_three_yes = binom.sf(k=3, n=8, p=0.65)\n",
    "print(prob_more_than_three_yes)"
   ]
  },
  {
   "cell_type": "markdown",
   "id": "e126079b",
   "metadata": {},
   "source": [
    "Predicting burglary conviction rate\n",
    "===================================\n",
    "\n",
    "There are many situations that can be modeled with only two outcomes: success or failure. This exercise presents a situation that can be modeled with a binomial distribution and gives you the opportunity to calculate probabilities using `binom.pmf()`, `binom.cdf()`, and `binom.sf()`.\n",
    "\n",
    "The `binom` object from `scipy.stats` has been loaded for your convenience.\n",
    "\n",
    "Imagine that in your town there are many crimes, including burglaries, but only **20%** of them get solved. Last week, there were **9**burglaries. Answer the following questions.\n",
    "\n",
    "Instructions 1/4\n",
    "----------------\n",
    "\n",
    "-   What is the probability of solving exactly **4** of the 9 total burglaries?"
   ]
  },
  {
   "cell_type": "code",
   "execution_count": null,
   "id": "0971337c",
   "metadata": {},
   "outputs": [],
   "source": [
    "# What is the probability of solving 4 burglaries?\n",
    "four_solved = binom.pmf(k=4, n=9, p=0.20)\n",
    "print(four_solved)"
   ]
  },
  {
   "cell_type": "markdown",
   "id": "11172261",
   "metadata": {},
   "source": [
    "Instructions 2/4\n",
    "----------------\n",
    "\n",
    "-   What is the probability of solving **more than 3** of the 9 burglaries?"
   ]
  },
  {
   "cell_type": "code",
   "execution_count": null,
   "id": "cbd21349",
   "metadata": {},
   "outputs": [],
   "source": [
    "# What is the probability of solving more than 3 burglaries?\n",
    "more_than_three_solved = binom.sf(k=3, n=9, p=0.2)\n",
    "print(more_than_three_solved)"
   ]
  },
  {
   "cell_type": "markdown",
   "id": "342c7939",
   "metadata": {},
   "source": [
    "Instructions 3/4\n",
    "----------------\n",
    "\n",
    "-   What is the probability of solving **exactly 2 or 3** of the 9 burglaries?"
   ]
  },
  {
   "cell_type": "code",
   "execution_count": null,
   "id": "ef835994",
   "metadata": {},
   "outputs": [],
   "source": [
    "# What is the probability of solving 2 or 3 burglaries?\n",
    "two_or_three_solved = binom.pmf(k=2, n=9, p=0.2) + binom.pmf(k=3, n=9, p=0.2)\n",
    "print(two_or_three_solved)"
   ]
  },
  {
   "cell_type": "markdown",
   "id": "7323d88b",
   "metadata": {},
   "source": [
    "Instructions 4/4\n",
    "----------------\n",
    "\n",
    "-   What is the probability of solving **1 or fewer or more than 7** of the 9 burglaries?"
   ]
  },
  {
   "cell_type": "code",
   "execution_count": null,
   "id": "c9c4a7b5",
   "metadata": {},
   "outputs": [],
   "source": [
    "# What is the probability of solving 1 or fewer or more than 7 burglaries?\n",
    "tail_probabilities = binom.cdf(k=1, n=9, p=0.2) + binom.sf(k=7, n=9, p=0.2)\n",
    "print(tail_probabilities)"
   ]
  },
  {
   "cell_type": "markdown",
   "id": "5442104b",
   "metadata": {},
   "source": [
    "1\\. Expected value, mean, and variance\n",
    "--------------------------------------\n",
    "\n",
    "00:00 - 00:15\n",
    "\n",
    "Is there an outcome in the data that is more likely than others? How spread out is the data? Let's explore three metrics for measuring these attributes: the expected value, the mean, and the variance.\n"
   ]
  },
  {
   "cell_type": "markdown",
   "id": "b2a68ef0",
   "metadata": {},
   "source": [
    "2\\. Expected value\n",
    "------------------\n",
    "\n",
    "00:15 - 00:49\n",
    "\n",
    "A discrete random variable has finite outcomes. For instance, the roll of a die has only six possible outcomes. For discrete random variables, the expected value is the sum of the possible outcomes weighted by their probability. To calculate the expected value, each outcome is multiplied by its probability, and the products are summed. In simple terms, the expected value is a value where the probability will concentrate when you repeat the experiment.\n",
    "\n",
    "Expected value: sum of possible outcomes weighted by its probability.\n",
    "\n",
    "$$\n",
    "E(X) = \\sum_{i=1}^{k} x_i p_i = x_1 p_1 + x_2 p_2 + \\cdots + x_k p_k\n",
    "$$\n"
   ]
  },
  {
   "cell_type": "markdown",
   "id": "9343adee",
   "metadata": {},
   "source": [
    "3\\. Expected value\n",
    "------------------\n",
    "\n",
    "00:49 - 00:55\n",
    "\n",
    "We multiply our tails outcome by its probability, 1 - p...\n",
    "\n",
    "The expected value of a discrete random variable is the sum of the possible outcomes weighted by their probability.\n",
    "\n",
    "$$\n",
    "E(X) = \\sum_{i=1}^{k} x_i p_i = x_1 p_1 + x_2 p_2 + \\cdots + x_k p_k\n",
    "$$\n",
    "\n",
    "In our case, for the coin flip we get:\n",
    "\n",
    "$$\n",
    "E(X) = \\sum_{i=1}^{2} x_i p_i = x_1 p_1 + x_2 p_2 = \\color{red}{0 \\times (1 - p)} + 1 \\times p = p\n",
    "$$\n"
   ]
  },
  {
   "cell_type": "markdown",
   "id": "1b0bcf2f",
   "metadata": {},
   "source": [
    "4\\. Expected value (Cont.)\n",
    "--------------------------\n",
    "\n",
    "00:55 - 01:05\n",
    "\n",
    "then we add the heads outcome, which is 1 multiplied by its probability, p, and we get the expected value p.\n",
    "\n",
    "The expected value of a discrete random variable is the sum of the possible outcomes weighted by their probability.\n",
    "\n",
    "$$\n",
    "E(X) = \\sum_{i=1}^{k} x_i p_i = x_1 p_1 + x_2 p_2 + \\cdots + x_k p_k\n",
    "$$\n",
    "\n",
    "In our case, for the coin flip we get:\n",
    "\n",
    "$$\n",
    "E(X) = \\sum_{i=1}^{2} x_i p_i = x_1 p_1 + x_2 p_2 = 0 \\times (1 - p) + \\color{red}{1 \\times p} = p\n",
    "$$\n"
   ]
  },
  {
   "cell_type": "markdown",
   "id": "6b8d5fbb",
   "metadata": {},
   "source": [
    "5\\. Arithmetic mean\n",
    "-------------------\n",
    "\n",
    "01:05 - 01:48\n",
    "\n",
    "The arithmetic mean is the sum of each outcome divided by the number of samples. It is based on data. We will see that the arithmetic mean of the outcomes converges to the expected value as we increase the number of random experiments. If we calculate the mean from many coin flips we will get a number near the probability of heads for that particular coin. In Python, we will use the describe function from the scipy dot stats library to get the mean: all we have to do is pass an array to the method to get its mean.\n",
    "\n",
    "\n",
    "Each \\( x_i \\) is the outcome from one experiment (i.e., a coin flip, either 0 or 1).\n",
    "\n",
    "$$\n",
    "\\bar{X} = \\frac{1}{n} \\sum_{i=1}^{n} x_i = \\frac{1}{n}(x_1 + x_2 + \\cdots + x_n)\n",
    "$$\n",
    "\n",
    "In **Python** we will use the `scipy.stats.describe()` function to get the arithmetic mean.\n",
    "\n",
    "```python\n",
    "from scipy.stats import describe\n",
    "describe([0, 1]).mean\n",
    "```\n",
    "\n",
    "```python\n",
    "0.5\n",
    "```"
   ]
  },
  {
   "cell_type": "markdown",
   "id": "2e5097e7",
   "metadata": {},
   "source": [
    "6\\. Mean tends to the expected value\n",
    "------------------------------------\n",
    "\n",
    "01:48 - 01:55\n",
    "\n",
    "If we repeat the experiment and make hundreds of fair coin flips we should get a number near 0.5.\n",
    "\n",
    "```markdown\n",
    "### Sample Mean of Fair Coin Flip\n",
    "\n",
    "This plot shows the running mean of outcomes from flipping a fair coin (0 = tails, 1 = heads) over 100 trials.\n",
    "\n",
    "- **X-axis:** Number of coin flips  \n",
    "- **Y-axis:** Mean of coin flips  \n",
    "\n",
    "As the number of flips increases, the sample mean converges toward **0.5**, as expected for a fair coin.\n",
    "\n",
    "Final sample mean approaching **0.5**\n",
    "```"
   ]
  },
  {
   "cell_type": "markdown",
   "id": "294eb149",
   "metadata": {},
   "source": [
    "7\\. Mean tends to the expected value\n",
    "------------------------------------\n",
    "\n",
    "01:55 - 02:02\n",
    "\n",
    "So, the more coins we flip, the more the sample mean of all the throws approaches the expected value\n",
    "\n",
    "```markdown\n",
    "### Sample Mean of Fair Coin Flip (1000 Trials)\n",
    "\n",
    "This plot shows the running mean of outcomes from flipping a fair coin over **1000 trials**.\n",
    "\n",
    "- **X-axis:** Number of coin flips  \n",
    "- **Y-axis:** Mean of coin flips  \n",
    "\n",
    "The sample mean begins with high variability but gradually stabilizes around **0.5**, as predicted by the Law of Large Numbers.\n",
    "\n",
    "Final mean approaches **0.5**\n",
    "```"
   ]
  },
  {
   "cell_type": "markdown",
   "id": "e490f5f5",
   "metadata": {},
   "source": [
    "8\\. Mean tends to the expected value\n",
    "------------------------------------\n",
    "\n",
    "02:02 - 02:21\n",
    "\n",
    "If we add even more coin flips, it becomes even clearer that the sample mean tends to the expected value. That is the relationship between the expected value and the mean. This is known as the law of large numbers which we will review later in the course.\n",
    "\n",
    "```markdown\n",
    "### Sample Mean of Fair Coin Flip (10,000 Trials)\n",
    "\n",
    "This plot illustrates how the sample mean of fair coin flips converges over **10,000 trials**.\n",
    "\n",
    "- **X-axis:** Number of coin flips  \n",
    "- **Y-axis:** Mean of coin flips  \n",
    "\n",
    "As the number of trials increases, the mean stabilizes very closely around **0.5**, demonstrating the **Law of Large Numbers** in action.\n",
    "\n",
    "Final sample mean approaches **0.5**\n",
    "```\n"
   ]
  },
  {
   "cell_type": "markdown",
   "id": "656e69a4",
   "metadata": {},
   "source": [
    "9\\. Variance\n",
    "------------\n",
    "\n",
    "02:21 - 02:44\n",
    "\n",
    "The variance measures how concentrated or spread out from the expected value the data is. Variance is the expected value of the squared deviation of a random variable from its expected value. In Python, we will again use the describe function and take the variance from the result.\n",
    "\n",
    "Variance is a measure of dispersion.  \n",
    "It's the expected value of the squared deviation from its expected value.\n",
    "\n",
    "$$\n",
    "Var(X) = E\\left[(X - E(X))^2\\right] = \\sum_{i=1}^{n} p_i \\times \\left(x_i - E(X)\\right)^2\n",
    "$$\n",
    "\n",
    "In **Python**, we will use the `scipy.stats.describe()` function to get the sample variance.\n",
    "\n",
    "```python\n",
    "describe([0, 1]).variance\n",
    "```\n",
    "\n",
    "```python\n",
    "0.5\n",
    "```\n"
   ]
  },
  {
   "cell_type": "markdown",
   "id": "39946f7f",
   "metadata": {},
   "source": [
    "10\\. Binomial distribution expected value and variance\n",
    "------------------------------------------------------\n",
    "\n",
    "02:44 - 03:08\n",
    "\n",
    "In the particular case of the binomial distribution, the expected value is the product of the number of coin flips and the probability of getting heads. The variance is the product of the expected value and the probability of failure (not getting heads). For 10 coin flips, with a fair coin, the expected value is 5 and the variance is 2.5.\n",
    "\n",
    "For \\( X \\sim Binomial(n, p) \\):\n",
    "\n",
    "- \\( E(X) = n \\times p \\)\n",
    "- \\( Var(X) = n \\times p \\times (1 - p) \\)\n",
    "\n",
    "**Example:** \\( n = 10 \\) and \\( p = 0.5 \\)\n",
    "\n",
    "- \\( E(X) = 10 \\times 0.5 = 5 \\)\n",
    "- \\( Var(X) = 10 \\times 0.5 \\times 0.5 = 2.5 \\)\n"
   ]
  },
  {
   "cell_type": "markdown",
   "id": "f77be0e8",
   "metadata": {},
   "source": [
    "11\\. Binomial distribution expected value and variance (Cont.)\n",
    "--------------------------------------------------------------\n",
    "\n",
    "03:08 - 03:18\n",
    "\n",
    "In Python, we will use the binom dot stats method to get the expected value and variance of a binomial distribution.\n",
    "\n",
    "```python\n",
    "# In Python we will use the binom.stats() method to get the expected value and variance.\n",
    "from scipy.stats import binom\n",
    "\n",
    "binom.stats(n=10, p=0.5)\n",
    "```\n",
    "\n",
    "```python\n",
    "(array(5.), array(2.5))\n",
    "```"
   ]
  },
  {
   "cell_type": "markdown",
   "id": "42a1c450",
   "metadata": {},
   "source": [
    "12\\. Binomial distribution expected value and variance (Cont.)\n",
    "--------------------------------------------------------------\n",
    "\n",
    "03:18 - 04:09\n",
    "\n",
    "Using binom dot stats, we can make some calculations so we know what we can expect in our simulations. The expected value and variance for one fair coin flip are 0.5 and 0.25. To get these values, we just use binom dot stats and specify n as 1 and p as 0.5 for a fair coin flip. The expected value for one biased coin flip with 30% probability of getting heads is 1 times 0.3, which is 0.3, and the variance is 0.3 times 0.7, which is the probability of failure, as we saw earlier.\n",
    "\n",
    "#### What are the expected value and variance for one fair coin flip?\n",
    "\n",
    "```python\n",
    "binom.stats(n=1, p=0.5)\n",
    "```\n",
    "\n",
    "```\n",
    "(array(0.5), array(0.25))\n",
    "```\n",
    "\n",
    "#### What are the expected value and variance for one biased coin flip, with 30% probability of success?\n",
    "\n",
    "```python\n",
    "binom.stats(n=1, p=0.3)\n",
    "```\n",
    "\n",
    "```\n",
    "(array(0.3), array(0.21))\n",
    "```"
   ]
  },
  {
   "cell_type": "markdown",
   "id": "6e662efa",
   "metadata": {},
   "source": [
    "13\\. Binomial distribution expected value and variance (Cont.)\n",
    "--------------------------------------------------------------\n",
    "\n",
    "04:09 - 04:19\n",
    "\n",
    "In our last example, we can see that the expected value for 10 fair coin flips is 5 and the variance is 2.5.\n",
    "\n",
    "## What are the expected value and variance for 10 fair coin flips?\n",
    "\n",
    "```python\n",
    "binom.stats(n=10, p=0.5)\n",
    "```\n",
    "\n",
    "```\n",
    "(array(5.), array(2.5))\n",
    "```"
   ]
  },
  {
   "cell_type": "markdown",
   "id": "a61f523b",
   "metadata": {},
   "source": [
    "14\\. Let's calculate expected values and variance from data\n",
    "-----------------------------------------------------------\n",
    "\n",
    "04:19 - 04:39\n",
    "\n",
    "Expected value, mean, and variance are essential to probability and statistics. In fact, these are the most important measures to calculate to determine if the data is spread out or concentrated around the expected value. So let's get busy calculating!"
   ]
  },
  {
   "cell_type": "markdown",
   "id": "3fdb1661",
   "metadata": {},
   "source": [
    "Calculating the expected value and variance\n",
    "===========================================\n",
    "\n",
    "How do you calculate the expected value and the variance from a binomial distribution with parameters `n=10` and `p=0.25`?\n",
    "\n",
    "##### Answer the question\n",
    "\n",
    "#### Possible Answers\n",
    "\n",
    "Select one answer\n",
    "\n",
    "[x] -   `binom.stats(n=10, p=0.25)`\n",
    "\n",
    "    PRESS1\n",
    "\n",
    "-   `binom.pmf(k=5, n=10,p=0.25)`\n",
    "\n",
    "    PRESS2\n",
    "\n",
    "-   `describe(binom.rvs(n=10, p=0.25, size=100)).mean`\n",
    "\n",
    "    PRESS3\n",
    "\n",
    "-   `describe(binom.rvs(n=10, p=0.25, size=100)).variance`\n",
    "\n",
    "    PRESS4"
   ]
  },
  {
   "cell_type": "markdown",
   "id": "e57bbc71",
   "metadata": {},
   "source": [
    "Calculating the sample mean\n",
    "===========================\n",
    "\n",
    "Simulation involves generating samples and then measuring. In this exercise, we'll generate some samples and calculate the sample mean with the `describe()` method. See what you observe about the sample mean as the number of samples increases.\n",
    "\n",
    "We've preloaded the `binom` object and the `describe()` method from `scipy.stats` for you, so you can calculate some values.\n",
    "\n",
    "Instructions 1/3\n",
    "----------------\n",
    "\n",
    "-   Generate a sample of 100 fair coin flips using `.rvs()` and calculate the sample mean using `describe()`."
   ]
  },
  {
   "cell_type": "code",
   "execution_count": null,
   "id": "6c0db865",
   "metadata": {},
   "outputs": [],
   "source": [
    "# Sample mean from a generated sample of 100 fair coin flips\n",
    "sample_of_100_flips = binom.rvs(n=1, p=0.5, size=100)\n",
    "sample_mean_100_flips = describe(sample_of_100_flips).mean\n",
    "print(sample_mean_100_flips)"
   ]
  },
  {
   "cell_type": "markdown",
   "id": "f1a30eaa",
   "metadata": {},
   "source": [
    "Instructions 2/3\n",
    "----------------\n",
    "\n",
    "-   Generate a sample of 1,000 fair coin flips and calculate the sample mean."
   ]
  },
  {
   "cell_type": "code",
   "execution_count": null,
   "id": "bbddceaa",
   "metadata": {},
   "outputs": [],
   "source": [
    "# Sample mean from a generated sample of 1,000 fair coin flips\n",
    "sample_mean_1000_flips = describe(binom.rvs(n=1, p=0.5, size=1000)).mean\n",
    "print(sample_mean_1000_flips)"
   ]
  },
  {
   "cell_type": "markdown",
   "id": "ef521d30",
   "metadata": {},
   "source": [
    "Instructions 3/3\n",
    "----------------\n",
    "\n",
    "-   Generate a sample of 2,000 fair coin flips and calculate the sample mean."
   ]
  },
  {
   "cell_type": "code",
   "execution_count": null,
   "id": "1adf98df",
   "metadata": {},
   "outputs": [],
   "source": [
    "# Sample mean from a generated sample of 2,000 fair coin flips\n",
    "sample_mean_2000_flips = describe(binom.rvs(n=1, p=0.5, size=2000)).mean\n",
    "print(sample_mean_2000_flips)"
   ]
  },
  {
   "cell_type": "markdown",
   "id": "6c15d8f9",
   "metadata": {},
   "source": [
    "Checking the result\n",
    "===================\n",
    "\n",
    "Now try generating some samples and calculating the expected value and variance yourself, then using the method provided by `binom` to check if the sample values match the theoretical values.\n",
    "\n",
    "The `binom` object and `describe()` method from `scipy.stats` are already loaded, so you can make the calculations.\n",
    "\n",
    "Instructions\n",
    "------------\n",
    "\n",
    "-   Calculate the sample mean and variance of the `sample` variable.\n",
    "-   Calculate the expected value using `n=10`and `p=0.3`, and calculate the variance using `mean`, and `1 - p`.\n",
    "-   Use a `binom` method to get the expected value and variance for 10 coin flips with `p=0.3`."
   ]
  },
  {
   "cell_type": "code",
   "execution_count": null,
   "id": "d2714ca4",
   "metadata": {},
   "outputs": [],
   "source": [
    "sample = binom.rvs(n=10, p=0.3, size=2000)\n",
    "\n",
    "# Calculate the sample mean and variance from the sample variable\n",
    "sample_describe = describe(sample)\n",
    "\n",
    "# Calculate the sample mean using the values of n and p\n",
    "mean = 10*0.3\n",
    "\n",
    "# Calculate the sample variance using the value of 1-p\n",
    "variance = mean*(1-0.3)\n",
    "\n",
    "# Calculate the sample mean and variance for 10 coin flips with p=0.3\n",
    "binom_stats = binom.stats(n=10, p=0.3)\n",
    "\n",
    "print(sample_describe.mean, sample_describe.variance, mean, variance, binom_stats)"
   ]
  },
  {
   "cell_type": "markdown",
   "id": "0fd58532",
   "metadata": {},
   "source": [
    "Calculating the mean and variance of a sample\n",
    "=============================================\n",
    "\n",
    "Now that you're familiar with working with coin flips using the `binom` object and calculating the mean and variance, let's try simulating a larger number of coin flips and calculating the sample mean and variance. Comparing this with the theoretical mean and variance will allow you to check if your simulated data follows the distribution you want.\n",
    "\n",
    "We've preloaded the `binom` object and the `describe()` method from `scipy.stats` for you, as well as creating an empty list called `averages` to store the mean of the `sample`variable and a variable called `variances` to store the variance of the `sample` variable.\n",
    "\n",
    "Instructions 1/3\n",
    "----------------\n",
    "\n",
    "-   Inside a loop, create a `sample` variable with 10 trials of 10 coin flips with 25% probability of getting heads."
   ]
  },
  {
   "cell_type": "code",
   "execution_count": null,
   "id": "8c89424d",
   "metadata": {},
   "outputs": [],
   "source": [
    "for i in range(0, 1500):\n",
    "    # 10 trials of 10 coin flips with 25% probability of heads\n",
    "    sample = binom.rvs(n=10, p=0.25, size=10)\n",
    "    # Mean and variance of the values in the sample variable\n",
    "    averages.append(describe(sample).mean)\n",
    "    variances.append(describe(sample).variance)"
   ]
  },
  {
   "cell_type": "markdown",
   "id": "81626dec",
   "metadata": {},
   "source": [
    "Instructions 2/3\n",
    "----------------\n",
    "\n",
    "-   Using the `describe()` function, calculate the mean of the provided `variances` array."
   ]
  },
  {
   "cell_type": "code",
   "execution_count": null,
   "id": "4dddae43",
   "metadata": {},
   "outputs": [],
   "source": [
    "for i in range(0, 1500):\n",
    "\t# 10 draws of 10 coin flips with 25% probability of heads\n",
    "    sample = binom.rvs(n=10, p=0.25, size=10)\n",
    "\t# Mean and variance of the values in the sample variable\n",
    "    averages.append(describe(sample).mean)\n",
    "    variances.append(describe(sample).variance)\n",
    "  \n",
    "# Calculate the mean of the averages variable\n",
    "print(\"Mean {}\".format(describe(averages).mean))\n",
    "\n",
    "# Calculate the mean of the variances variable\n",
    "print(\"Variance {}\".format(describe(variances).mean))"
   ]
  },
  {
   "cell_type": "markdown",
   "id": "bc12e6be",
   "metadata": {},
   "source": [
    "Instructions 3/3\n",
    "----------------\n",
    "\n",
    "-   Using the `binom.stats()` function, calculate the theoretical mean and variance using 10 coin flips and a 25% probability of getting heads and compare your results from the previous exercise to the expected values for the mean and variance."
   ]
  },
  {
   "cell_type": "code",
   "execution_count": null,
   "id": "aeb6c3a9",
   "metadata": {},
   "outputs": [],
   "source": [
    "for i in range(0, 1500):\n",
    "\t# 10 draws of 10 coin flips with 25% probability of heads\n",
    "    sample = binom.rvs(n=10, p=0.25, size=10)\n",
    "\t# Mean and variance of the values in the sample variable\n",
    "    averages.append(describe(sample).mean)\n",
    "    variances.append(describe(sample).variance)\n",
    "  \n",
    "# Calculate the mean of the averages variable\n",
    "print(\"Mean {}\".format(describe(averages).mean))\n",
    "\n",
    "# Calculate the mean of the variances variable\n",
    "print(\"Variance {}\".format(describe(variances).mean))\n",
    "\n",
    "# Calculate the mean and variance\n",
    "print(binom.stats(n=10, p=0.25))"
   ]
  }
 ],
 "metadata": {
  "kernelspec": {
   "display_name": "base",
   "language": "python",
   "name": "python3"
  },
  "language_info": {
   "name": "python",
   "version": "3.12.7"
  }
 },
 "nbformat": 4,
 "nbformat_minor": 5
}
