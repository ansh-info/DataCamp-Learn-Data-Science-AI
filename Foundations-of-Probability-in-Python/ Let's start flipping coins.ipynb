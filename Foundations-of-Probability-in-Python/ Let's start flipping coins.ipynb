{
 "cells": [
  {
   "cell_type": "markdown",
   "id": "1be2a700",
   "metadata": {},
   "source": [
    "1\\. Let's flip a coin in Python\n",
    "-------------------------------\n",
    "\n",
    "00:00 - 00:36\n",
    "\n",
    "Hi, I'm Alexander Ramirez, the CEO at Synergy Vision, which focuses on financial data science. This course is intended for people with basic knowledge about Python and familiarity with statistics. At the end of the course you'll have an understanding of basic probability concepts like random variables, calculations, probability distributions, and important results like the law of large numbers. We'll illustrate these concepts using simulations with Python."
   ]
  },
  {
   "cell_type": "markdown",
   "id": "376bb5bc",
   "metadata": {},
   "source": [
    "2\\. Probability\n",
    "---------------\n",
    "\n",
    "00:36 - 00:56\n",
    "\n",
    "Probability is the foundation of many of the methods and models in data science. Statistical inference methods use data to understand the underlying processes behind the data. With probability, we can study the regularities that arise in random phenomena.\n",
    "\n",
    "- Foundation of Data Science\n",
    "- Allows to produce data from models\n",
    "- Study regularities in random phenomena\n"
   ]
  },
  {
   "cell_type": "markdown",
   "id": "28b72c55",
   "metadata": {},
   "source": [
    "3\\. Gain intuition\n",
    "------------------\n",
    "\n",
    "00:56 - 01:14\n",
    "\n",
    "Let's try to gain some intuition about probability by starting with the classic random experiment, a coin flip. We'll start simulating with Python and learn to calculate probabilities and work with probability distributions.\n",
    "\n",
    "```markdown\n",
    "...with coin flips\n",
    "          O\n",
    "       ___|______\n",
    "      |         |\n",
    "      |         |\n",
    "      |  \\_____/|   \n",
    "      |    |     |    <- Coin\n",
    "      |   /      |\n",
    "      |  |       |\n",
    "      |  |       |\n",
    "       \\ |_______/\n",
    "        |       \n",
    "  ______|______\n",
    " /      |      \\\n",
    "|  Hand |       |\n",
    "|_______|_______|   <- Hand tossing coin\n",
    "```"
   ]
  },
  {
   "cell_type": "markdown",
   "id": "dacc769d",
   "metadata": {},
   "source": [
    "4\\. Only two outcomes\n",
    "---------------------\n",
    "\n",
    "01:14 - 02:08\n",
    "\n",
    "If you flip a coin there are two possible outcomes: heads or tails. This random experiment is called a Bernoulli trial, after Jacob Bernoulli. A Bernoulli trial is one where the possible outcomes are binary: they can be modeled as success or failure, yes or no, or on or off. In this case the experiment is the flip of a coin; the possible outcomes are success (getting heads) or failure (getting tails). Each outcome is called an event. You assign probabilities to events. With a fair coin you have a 50% chance of getting heads and a 50% chance of getting tails for each event.\n",
    "\n",
    "```markdown\n",
    "Heads or Tails:\n",
    "     _______\n",
    "    /       \\\n",
    "   |   IN    |\n",
    "   |  GOD WE |\n",
    "   |  TRUST  |   <- Heads (Lincoln's side)\n",
    "   |         |\n",
    "   | LIBERTY |\n",
    "    \\_______/\n",
    "    \n",
    "         |   \n",
    "         | (flip)\n",
    "         |\n",
    "    _______\n",
    "   /       \\\n",
    "  | UNITED  |\n",
    "  | STATES  |   <- Tails (Lincoln Memorial side)\n",
    "  | OF      |\n",
    "  | AMERICA |\n",
    "  | ONE CENT|\n",
    "   \\_______/\n",
    "```"
   ]
  },
  {
   "cell_type": "markdown",
   "id": "e77bc6e1",
   "metadata": {},
   "source": [
    "5\\. Flipping a coin in Python\n",
    "-----------------------------\n",
    "\n",
    "02:08 - 02:53\n",
    "\n",
    "To simulate the coin flips, we will use the bernoulli object from the Python library scipy dot stats. We can call bernoulli dot rvs, specifying two arguments, to generate random variates. The first argument is p, the probability of success, which in this case is 0.5; the second is size, which is the number of coin flips, in this case 1. The result of the first call was 0, or tails. After executing the call a second time we got 1, or heads.\n",
    "\n",
    "```python\n",
    "from scipy.stats import bernoulli\n",
    "\n",
    "# Bernoulli random experiment\n",
    "bernoulli.rvs(p=0.5, size=1)\n",
    "```\n",
    "```plaintext\n",
    "array([0])\n",
    "```\n",
    "\n",
    "```python\n",
    "# Another draw\n",
    "bernoulli.rvs(p=0.5, size=1)\n",
    "```\n",
    "```plaintext\n",
    "array([1])\n",
    "```"
   ]
  },
  {
   "cell_type": "markdown",
   "id": "3a0ee887",
   "metadata": {},
   "source": [
    "6\\. Flipping multiple coins\n",
    "---------------------------\n",
    "\n",
    "02:53 - 03:08\n",
    "\n",
    "For 10 coin flips, size equals 10. We can use sum to know how many heads we got. The first time, we got 5 heads and 5 tails.\n",
    "\n",
    "```python\n",
    "# Change size parameter to flip more...\n",
    "bernoulli.rvs(p=0.5, size=10)\n",
    "```\n",
    "```plaintext\n",
    "array([0, 0, 0, 0, 0, 0, 1, 1, 0, 0])\n",
    "```\n",
    "\n",
    "```python\n",
    "# How many heads?\n",
    "sum(bernoulli.rvs(p=0.5, size=10))\n",
    "```\n",
    "```plaintext\n",
    "5\n",
    "```"
   ]
  },
  {
   "cell_type": "markdown",
   "id": "77012485",
   "metadata": {},
   "source": [
    "7\\. Flipping multiple coins (Cont.)\n",
    "-----------------------------------\n",
    "\n",
    "03:08 - 03:13\n",
    "\n",
    "After another draw, we got 2 heads and 8 tails. So, we can appreciate the randomness.\n",
    "\n",
    "```python\n",
    "# Another draw...\n",
    "sum(bernoulli.rvs(p=0.5, size=10))\n",
    "```\n",
    "```plaintext\n",
    "2\n",
    "```"
   ]
  },
  {
   "cell_type": "markdown",
   "id": "fad78740",
   "metadata": {},
   "source": [
    "8\\. Flipping multiple coins (Cont.)\n",
    "-----------------------------------\n",
    "\n",
    "03:13 - 03:59\n",
    "\n",
    "A sequence of independent Bernoulli trials follows the binomial distribution. So, instead of using the bernoulli object and adding the outcomes, we can use the binomial distribution and the binom object. We'll use three arguments: n for the number of coin flips, p for the probability of success, and size for the number of draws of the same experiment. On the first execution we got 7 heads out of 10 flips. Let's try 10 more times. As we can see, 5 is the result that repeats most often for a fair coin.\n",
    "\n",
    "```python\n",
    "from scipy.stats import binom\n",
    "\n",
    "# Binomial random variable\n",
    "binom.rvs(n=10, p=0.5, size=1)\n",
    "```\n",
    "```plaintext\n",
    "array([7])\n",
    "```\n",
    "\n",
    "```python\n",
    "# Many draws\n",
    "binom.rvs(n=10, p=0.5, size=10)\n",
    "```\n",
    "```plaintext\n",
    "array([6, 2, 3, 5, 5, 5, 5, 4, 6, 6])\n",
    "```"
   ]
  },
  {
   "cell_type": "markdown",
   "id": "f314f813",
   "metadata": {},
   "source": [
    "9\\. Flipping multiple coins (Cont.)\n",
    "-----------------------------------\n",
    "\n",
    "03:59 - 04:15\n",
    "\n",
    "We can also change the probability of getting heads to 0.3, and see how that affects the results. As you may notice already, we can observe different outcomes using biased coins.\n",
    "\n",
    "```python\n",
    "# Biased coin draws\n",
    "binom.rvs(n=10, p=0.3, size=10)\n",
    "```\n",
    "```plaintext\n",
    "array([3, 4, 3, 3, 2, 2, 2, 2, 3, 6])\n",
    "```"
   ]
  },
  {
   "cell_type": "markdown",
   "id": "1ee53c5c",
   "metadata": {},
   "source": [
    "10\\. Random generator seed\n",
    "--------------------------\n",
    "\n",
    "04:15 - 04:54\n",
    "\n",
    "We use random number generators to simulate the outcome of random experiment. If you run the same command with the same random seed, you will always get the same result. In Python we need to set a seed for the generator to produce similar outcomes in each experiment. Then we can check if the results are what we expected. We have two options to configure the generator: using the random_state parameter of the rvs function or using numpy dot random dot seed.\n",
    "\n",
    "```python\n",
    "# Use the random_state parameter of the rvs() function\n",
    "from scipy.stats import binom\n",
    "binom.rvs(n=10, p=0.5, size=1, random_state=42)\n",
    "```\n",
    "\n",
    "```python\n",
    "# Use numpy.random.seed()\n",
    "import numpy as np\n",
    "np.random.seed(42)\n",
    "```"
   ]
  },
  {
   "cell_type": "markdown",
   "id": "fe181ca1",
   "metadata": {},
   "source": [
    "11\\. Random generator seed (Cont.)\n",
    "----------------------------------\n",
    "\n",
    "04:54 - 05:00\n",
    "\n",
    "For convenience, we will mostly use the numpy method throughout this course.\n",
    "\n",
    "```python\n",
    "from scipy.stats import binom\n",
    "import numpy as np\n",
    "\n",
    "np.random.seed(42)\n",
    "binom.rvs(n=10, p=0.5, size=1)\n",
    "```\n",
    "\n",
    "```python\n",
    "array([4])\n",
    "```"
   ]
  },
  {
   "cell_type": "markdown",
   "id": "495d9bd1",
   "metadata": {},
   "source": [
    "12\\. Let's practice flipping coins in Python\n",
    "--------------------------------------------\n",
    "\n",
    "05:00 - 05:12\n",
    "\n",
    "We can do some more experiments like this to get a sense about the outcomes that are most likely. So, let's practice flipping coins in Python!"
   ]
  },
  {
   "cell_type": "markdown",
   "id": "1ef19c01",
   "metadata": {},
   "source": [
    "Flipping coins\n",
    "==============\n",
    "\n",
    "This exercise requires the `bernoulli` object from the `scipy.stats` library to simulate the two possible outcomes from a coin flip, `1`(\"heads\") or `0` (\"tails\"), and the `numpy` library (loaded as `np`) to set the random generator seed.\n",
    "\n",
    "You'll use the `bernoulli.rvs()` function to simulate coin flips using the `size` argument. \n",
    "\n",
    "You will set the random seed so you can reproduce the results for the random experiment in each exercise.\n",
    "\n",
    "From each experiment, you will get the values of each coin flip. You can add the coin flips to get the number of heads after flipping 10 coins using the `sum()` function.\n",
    "\n",
    "Instructions 1/3\n",
    "----------------\n",
    "\n",
    "-   Import `bernoulli` from `scipy.stats`, set the seed with `np.random.seed()`. Simulate 1 flip, with a 35% chance of heads."
   ]
  },
  {
   "cell_type": "code",
   "execution_count": null,
   "id": "0a4979e1",
   "metadata": {},
   "outputs": [],
   "source": [
    "# Import the bernoulli object from scipy.stats\n",
    "from scipy.stats import bernoulli\n",
    "\n",
    "# Set the random seed to reproduce the results\n",
    "np.random.seed(42)\n",
    "\n",
    "# Simulate one coin flip with 35% chance of getting heads\n",
    "coin_flip = bernoulli.rvs(p=.35, size=1)\n",
    "print(coin_flip)"
   ]
  },
  {
   "cell_type": "markdown",
   "id": "d5b69eed",
   "metadata": {},
   "source": [
    "Instructions 2/3\n",
    "----------------\n",
    "\n",
    "-   Use `bernoulli.rvs()` and `sum()` to get the number of heads after 10 coin flips with 35% chance of getting heads."
   ]
  },
  {
   "cell_type": "code",
   "execution_count": null,
   "id": "a8bf1393",
   "metadata": {},
   "outputs": [],
   "source": [
    "# Import the bernoulli object from scipy.stats\n",
    "from scipy.stats import bernoulli\n",
    "\n",
    "# Set the random seed to reproduce the results\n",
    "np.random.seed(42)\n",
    "\n",
    "# Simulate ten coin flips and get the number of heads\n",
    "ten_coin_flips = bernoulli.rvs(p=.35, size=10)\n",
    "coin_flips_sum = sum(ten_coin_flips)\n",
    "print(coin_flips_sum)"
   ]
  },
  {
   "cell_type": "markdown",
   "id": "7351b36f",
   "metadata": {},
   "source": [
    "Instructions 3/3\n",
    "----------------\n",
    "\n",
    "-   Using `bernoulli.rvs()` and `sum()`, try to get the number of heads after 5 flips with a 50% chance of getting heads."
   ]
  },
  {
   "cell_type": "code",
   "execution_count": null,
   "id": "680b26b4",
   "metadata": {},
   "outputs": [],
   "source": [
    "# Import the bernoulli object from scipy.stats\n",
    "from scipy.stats import bernoulli\n",
    "\n",
    "# Set the random seed to reproduce the results\n",
    "np.random.seed(42)\n",
    "\n",
    "# Simulate ten coin flips and get the number of heads\n",
    "five_coin_flips = bernoulli.rvs(p=0.5, size=5)\n",
    "coin_flips_sum = sum(five_coin_flips)\n",
    "print(coin_flips_sum)"
   ]
  },
  {
   "cell_type": "markdown",
   "id": "60e37601",
   "metadata": {},
   "source": [
    "Using binom to flip even more coins\n",
    "===================================\n",
    "\n",
    "Previously, you simulated 10 coin flips with a 35% chance of getting heads using `bernoulli.rvs()`.\n",
    "\n",
    "This exercise loads the `binom` object from `scipy.stats` so you can use `binom.rvs()` to simulate 20 trials of 10 coin flips with a 35% chance of getting heads on each coin flip.\n",
    "\n",
    "Instructions\n",
    "------------\n",
    "\n",
    "-   Use the `binom.rvs()` function to simulate 20 trials of 10 coin flips with a 35% chance of getting heads."
   ]
  },
  {
   "cell_type": "code",
   "execution_count": null,
   "id": "089aab7c",
   "metadata": {},
   "outputs": [],
   "source": [
    "# Set the random seed to reproduce the results\n",
    "np.random.seed(42)\n",
    "\n",
    "# Simulate 20 trials of 10 coin flips \n",
    "draws = binom.rvs(n=10, p=.35, size=20)\n",
    "print(draws)"
   ]
  },
  {
   "cell_type": "markdown",
   "id": "b49bba7a",
   "metadata": {},
   "source": [
    "1\\. Probability mass and distribution functions\n",
    "-----------------------------------------------\n",
    "\n",
    "00:00 - 00:22\n",
    "\n",
    "After conducting many random experiments, you will notice that some outcomes are more likely than others. This is called a probability distribution. There are two important functions that are useful for probability calculations: the probability mass function and the cumulative distribution function.\n"
   ]
  },
  {
   "cell_type": "markdown",
   "id": "36ced86a",
   "metadata": {},
   "source": [
    "2\\. Probability mass function (pmf)\n",
    "-----------------------------------\n",
    "\n",
    "00:22 - 00:49\n",
    "\n",
    "A discrete random variable has a finite number of possible outcomes. The probability mass function allows you to calculate the probability of getting a particular outcome for a discrete random variable. The binomial probability mass function allows you to calculate the probability of getting k heads from n coin flips with p probability of getting heads.\n",
    "\n",
    "$binomial.pmf(k, n, p) = \\binom{n}{k} p^k (1 - p)^{n - k}$"
   ]
  },
  {
   "cell_type": "markdown",
   "id": "20724020",
   "metadata": {},
   "source": [
    "3\\. Probability mass function (pmf)\n",
    "-----------------------------------\n",
    "\n",
    "00:49 - 00:54\n",
    "\n",
    "The formula multiplies the number of different ways that you can get k successes out of n coin flips...\n",
    "\n",
    "$binomial.pmf(k, n, p) = \\color{red}{\\binom{n}{k}} p^k (1 - p)^{n - k}$"
   ]
  },
  {
   "cell_type": "markdown",
   "id": "4eb41995",
   "metadata": {},
   "source": [
    "4\\. Probability mass function (pmf) (Cont.)\n",
    "-------------------------------------------\n",
    "\n",
    "00:54 - 00:59\n",
    "\n",
    "by the probability of success raised to the number of successes, k...\n",
    "\n",
    "$binomial.pmf(k, n, p) = \\binom{n}{k} \\color{red}{p^k} (1 - p)^{n - k}$"
   ]
  },
  {
   "cell_type": "markdown",
   "id": "4053f47b",
   "metadata": {},
   "source": [
    "5\\. Probability mass function (pmf) (Cont.)\n",
    "-------------------------------------------\n",
    "\n",
    "00:59 - 01:13\n",
    "\n",
    "by the probability of failure, 1 - p, raised to the number of failures, n - k. It's okay if you don't understand the formula right now. With practice, your intuition about this will grow.\n",
    "\n",
    "$binomial.pmf(k, n, p) = \\binom{n}{k} p^k \\color{red}{(1 - p)^{n - k}}$"
   ]
  },
  {
   "cell_type": "markdown",
   "id": "57c6d281",
   "metadata": {},
   "source": [
    "6\\. Probability mass function (pmf)\n",
    "-----------------------------------\n",
    "\n",
    "01:13 - 01:25\n",
    "\n",
    "If we plot the probability mass function of getting k heads out of 10 fair coin flips, you can see that 5 is the most likely outcome.\n",
    "\n",
    "### Binomial Distribution PMF\n",
    "\n",
    "**binom.pmf(k=5, n=10, p=0.5) = 24.6%**\n",
    "\n",
    "| k  | P(X = k) |\n",
    "|----|----------|\n",
    "| 0  | 0.001    |\n",
    "| 1  | 0.010    |\n",
    "| 2  | 0.044    |\n",
    "| 3  | 0.117    |\n",
    "| 4  | 0.205    |\n",
    "| 5  | **0.246** |\n",
    "| 6  | 0.205    |\n",
    "| 7  | 0.117    |\n",
    "| 8  | 0.044    |\n",
    "| 9  | 0.010    |\n",
    "| 10 | 0.001    |\n",
    "\n",
    "The binomial probability mass function (PMF) is:\n",
    "\n",
    "$$\n",
    "P(X = k) = \\binom{n}{k} p^k (1 - p)^{n-k}\n",
    "$$\n",
    "\n",
    "For \\( n = 10 \\), \\( p = 0.5 \\), the most likely outcome is \\( k = 5 \\), with probability:\n",
    "\n",
    "$$\n",
    "P(X = 5) = \\binom{10}{5} (0.5)^5 (1 - 0.5)^{5} = 0.246\n",
    "$$"
   ]
  },
  {
   "cell_type": "markdown",
   "id": "915c26ea",
   "metadata": {},
   "source": [
    "7\\. Probability mass function (pmf) (Cont.)\n",
    "-------------------------------------------\n",
    "\n",
    "01:25 - 01:33\n",
    "\n",
    "With the scipy dot stats library we can use the binom dot pmf function to calculate this probability.\n",
    "\n",
    "$binomial.pmf(k, n, p) = \\binom{n}{k} p^k (1 - p)^{n - k}$\n",
    "\n",
    "**In Python:**\n",
    "\n",
    "```python\n",
    "binom.pmf(k, n, p)\n",
    "```\n",
    "\n",
    "```"
   ]
  },
  {
   "cell_type": "markdown",
   "id": "44f3d6a5",
   "metadata": {},
   "source": [
    "8\\. Calculating probabilities with `binom.pmf()`\n",
    "------------------------------------------------\n",
    "\n",
    "01:33 - 01:59\n",
    "\n",
    "If you use binom dot pmf with parameters k equals 2, n equals 10, and p equals 0.5 you get the probability of getting 2 heads from 10 flips of a fair coin -- that is, 4%. The probability of getting 5 heads from 10 coin flips is almost 25%.\n",
    "\n",
    "```python\n",
    "# Probability of 2 heads after 10 throws with a fair coin\n",
    "binom.pmf(k=2, n=10, p=0.5)\n",
    "```\n",
    "\n",
    "```python\n",
    "0.04394531249999999\n",
    "```\n",
    "\n",
    "```python\n",
    "# Probability of 5 heads after 10 throws with a fair coin\n",
    "binom.pmf(k=5, n=10, p=0.5)\n",
    "```\n",
    "\n",
    "```python\n",
    "0.24609375000000003\n",
    "```"
   ]
  },
  {
   "cell_type": "markdown",
   "id": "c00bbccd",
   "metadata": {},
   "source": [
    "9\\. Calculating probabilities with binom.pmf() (Cont.)\n",
    "------------------------------------------------------\n",
    "\n",
    "01:59 - 02:34\n",
    "\n",
    "The probability of getting 50 heads out of 100 flips of a biased coin with 30% probability of getting heads is extremely small: not even a 1% chance. If instead you calculate the probability of getting 65 heads from 100 flips of a biased coin with 70% probability of getting heads, you see that it's almost 5%. As n gets larger, the probability of getting k heads becomes smaller for the same p.\n",
    "\n",
    "```python\n",
    "# Probability of 50 heads after 100 throws with p=0.3\n",
    "binom.pmf(k=50, n=100, p=0.3)\n",
    "```\n",
    "\n",
    "```python\n",
    "1.3026227131445298e-05\n",
    "```\n",
    "\n",
    "```python\n",
    "# Probability of 65 heads after 100 throws with p=0.7\n",
    "binom.pmf(k=65, n=100, p=0.7)\n",
    "```\n",
    "\n",
    "```python\n",
    "0.0467796823527298\n",
    "```"
   ]
  },
  {
   "cell_type": "markdown",
   "id": "83d3f83f",
   "metadata": {},
   "source": [
    "10\\. Probability distribution function (cdf)\n",
    "--------------------------------------------\n",
    "\n",
    "02:34 - 02:47\n",
    "\n",
    "If you instead want to calculate the probability of getting k or fewer heads from n throws, you use the binomial probability distribution function, which adds the probabilities of...\n",
    "\n",
    "\n",
    "$binomial.cdf(k, n, p) = \\binom{n}{0} p^0 (1 - p)^n + \\binom{n}{1} p (1 - p)^{n - 1} + \\dots + \\binom{n}{k} p^k (1 - p)^{n - k}$\n"
   ]
  },
  {
   "cell_type": "markdown",
   "id": "93536dcc",
   "metadata": {},
   "source": [
    "11\\. Probability distribution function (cdf) (Cont.)\n",
    "----------------------------------------------------\n",
    "\n",
    "02:47 - 02:50\n",
    "\n",
    "getting 0 heads out of n flips...\n",
    "\n",
    "\n",
    "$binomial.cdf(k, n, p) = \\color{red}{\\binom{n}{0} p^0 (1 - p)^n} + \\binom{n}{1} p (1 - p)^{n - 1} + \\dots + \\binom{n}{k} p^k (1 - p)^{n - k}$\n"
   ]
  },
  {
   "cell_type": "markdown",
   "id": "60fe9abb",
   "metadata": {},
   "source": [
    "12\\. Probability distribution function (cdf) (Cont.)\n",
    "----------------------------------------------------\n",
    "\n",
    "02:50 - 02:54\n",
    "\n",
    "getting heads once out of n flips...\n",
    "\n",
    "\n",
    "$binomial.cdf(k, n, p) = \\binom{n}{0} p^0 (1 - p)^n + \\color{red}{\\binom{n}{1} p (1 - p)^{n - 1}} + \\dots + \\binom{n}{k} p^k (1 - p)^{n - k}$\n"
   ]
  },
  {
   "cell_type": "markdown",
   "id": "ab53a80a",
   "metadata": {},
   "source": [
    "13\\. Probability distribution function (cdf) (Cont.)\n",
    "----------------------------------------------------\n",
    "\n",
    "02:54 - 02:57\n",
    "\n",
    "and getting all the way up to k heads out of n flips.\n",
    "\n",
    "\n",
    "$binomial.cdf(k, n, p) = \\binom{n}{0} p^0 (1 - p)^n + \\binom{n}{1} p (1 - p)^{n - 1} + \\dots + \\color{red}{\\binom{n}{k} p^k (1 - p)^{n - k}}$\n"
   ]
  },
  {
   "cell_type": "markdown",
   "id": "8f149a04",
   "metadata": {},
   "source": [
    "14\\. Cumulative distribution function (cdf)\n",
    "-------------------------------------------\n",
    "\n",
    "02:57 - 03:34\n",
    "\n",
    "The binomial probability distribution function allows us to calculate the cumulative probability of getting k heads or fewer from n coin flips with p probability of getting heads. In Python we use the binom dot cdf function with parameters k, n, and p. Adding the probabilities from the mass function, we get the cumulative distribution function (cdf). This is a way of getting a range of probabilities rather than the probability of a single event.\n",
    "\n",
    "\n",
    "**Left: Binomial Distribution PMF**\n",
    "\n",
    "$binom.cdf(k=5, n=10, p=0.5)$\n",
    "\n",
    "| k  | P(X = k) |\n",
    "|----|----------|\n",
    "| 0  | 0.001    |\n",
    "| 1  | 0.010    |\n",
    "| 2  | 0.044    |\n",
    "| 3  | 0.117    |\n",
    "| 4  | 0.205    |\n",
    "| 5  | **0.246** |\n",
    "| 6  | 0.205    |\n",
    "| 7  | 0.117    |\n",
    "| 8  | 0.044    |\n",
    "| 9  | 0.010    |\n",
    "| 10 | 0.001    |\n",
    "\n",
    "---\n",
    "\n",
    "**Right: Standard Normal Distribution PDF**\n",
    "\n",
    "$norm.cdf(0) \\approx 0.5$\n",
    "\n",
    "The shaded region under the standard normal curve from $-\\infty$ to $0$ corresponds to 50% of the distribution.\n"
   ]
  },
  {
   "cell_type": "markdown",
   "id": "6d2d3a88",
   "metadata": {},
   "source": [
    "15\\. Cumulative distribution function (cdf) (Cont.)\n",
    "---------------------------------------------------\n",
    "\n",
    "03:34 - 03:44\n",
    "\n",
    "With the scipy dot stats library, we can use the binom dot cdf function to get such a probability using the same parameters.\n",
    "\n",
    "\n",
    "$binomial.cdf(k, n, p) = \\binom{n}{0} p^0 (1 - p)^n + \\binom{n}{1} p (1 - p)^{n - 1} + \\dots + \\binom{n}{k} p^k (1 - p)^{n - k}$\n",
    "\n",
    "**In Python:**\n",
    "\n",
    "```python\n",
    "binom.cdf(k=1, n=3, p=0.5)\n",
    "```\n"
   ]
  },
  {
   "cell_type": "markdown",
   "id": "341001f0",
   "metadata": {},
   "source": [
    "16\\. Calculating cumulative probabilities\n",
    "-----------------------------------------\n",
    "\n",
    "03:44 - 04:17\n",
    "\n",
    "If you use binom dot cdf with parameters k equals 5, n equals 10, and p equals 0.5 you get the probability of getting heads 5 times or fewer out of 10 flips, which is 62%. The probability of getting heads 50 times or fewer out of 100 flips of a biased coin with 30% probability of getting heads is near 100%. It's almost guaranteed.\n",
    "\n",
    "```python\n",
    "# Probability of 5 heads or less after 10 throws with a fair coin\n",
    "binom.cdf(k=5, n=10, p=0.5)\n",
    "```\n",
    "\n",
    "```python\n",
    "0.6230468749999999\n",
    "```\n",
    "\n",
    "```python\n",
    "# Probability of 50 heads or less after 100 throws with p=0.3\n",
    "binom.cdf(k=50, n=100, p=0.3)\n",
    "```\n",
    "\n",
    "```python\n",
    "0.9999909653138043\n",
    "```"
   ]
  },
  {
   "cell_type": "markdown",
   "id": "b776c997",
   "metadata": {},
   "source": [
    "17\\. Calculating cumulative probabilities (Cont.)\n",
    "-------------------------------------------------\n",
    "\n",
    "04:17 - 05:03\n",
    "\n",
    "The probability of getting heads more than 59 times from 100 flips of a biased coin with p equal to 70% is 99% -- again, it's almost certain. What if we want the probability of getting heads more than k times? This is called the complement, and we get it by subtracting the CDF from 1. Alternatively, we can calculate the complement using the function binom dot sf with the same parameters. sf stands for survival function, which allows you to get tail probabilities, or the complement in this case.\n",
    "\n",
    "```python\n",
    "# Probability of more than 59 heads after 100 throws with p=0.7\n",
    "1 - binom.cdf(k=59, n=100, p=0.7)\n",
    "```\n",
    "\n",
    "```python\n",
    "0.9875015928335618\n",
    "```\n",
    "\n",
    "```python\n",
    "# Probability of more than 59 heads after 100 throws with p=0.7\n",
    "binom.sf(k=59, n=100, p=0.7)\n",
    "```\n",
    "\n",
    "```python\n",
    "0.9875015928335618\n",
    "```"
   ]
  },
  {
   "cell_type": "markdown",
   "id": "3b799b9d",
   "metadata": {},
   "source": [
    "18\\. Let's calculate some probabilities\n",
    "---------------------------------------\n",
    "\n",
    "05:03 - 05:08\n",
    "\n",
    "We've had some fun calculating probabilities. Now let's practice some more."
   ]
  },
  {
   "cell_type": "markdown",
   "id": "19ef3f7d",
   "metadata": {},
   "source": [
    "Predicting the probability of defects\n",
    "=====================================\n",
    "\n",
    "Any situation with exactly two possible outcomes can be modeled with **binomial**random variables. For example, you could model if someone likes or dislikes a product, or if they voted or not.\n",
    "\n",
    "Let's model whether or not a component from a supplier comes with a defect. From the thousands of components that we got from a supplier, we are going to take a sample of 50, selected randomly. The agreed and accepted defect rate is 2%.\n",
    "\n",
    "We import the `binom` object from `scipy.stats`. \n",
    "\n",
    "Recall that:\n",
    "\n",
    "-   `binom.pmf()` calculates the probability of having exactly `k` heads out of `n` coin flips.\n",
    "-   `binom.cdf()` calculates the probability of having `k` heads or less out of `n` coin flips.\n",
    "-   `binom.sf()` calculates the probability of having more than `k` heads out of `n` coin flips.\n",
    "\n",
    "Instructions 1/4\n",
    "----------------\n",
    "\n",
    "Question\n",
    "--------\n",
    "\n",
    "Let's answer a simple question before we start calculating probabilities:\n",
    "\n",
    "-   What is the probability of getting more than 20 heads from a fair coin after 30 coin flips?\n",
    "\n",
    "### Possible answers\n",
    "\n",
    "`binom.pmf(k=20, n=30, p=0.5)`\n",
    "\n",
    "[x] `1 - binom.pmf(k=20, n=30, p=0.5)`\n",
    "\n",
    "`binom.sf(k=20, n=30, p=0.5)`\n",
    "\n",
    "`binom.cdf(k=20, n=30, p=0.5)`"
   ]
  },
  {
   "cell_type": "markdown",
   "id": "edef3bbd",
   "metadata": {},
   "source": [
    "Instructions 2/4\n",
    "----------------\n",
    "\n",
    "Let's get started with our model for defective components. \n",
    "\n",
    "First, calculate the probability of getting exactly 1 defective component."
   ]
  },
  {
   "cell_type": "code",
   "execution_count": null,
   "id": "d3ed1bdc",
   "metadata": {},
   "outputs": [],
   "source": [
    "# Probability of getting exactly 1 defective component\n",
    "prob_one_defect = binom.pmf(k=1, n=50, p=0.02)\n",
    "print(prob_one_defect)"
   ]
  },
  {
   "cell_type": "markdown",
   "id": "45ac6810",
   "metadata": {},
   "source": [
    "Instructions 3/4\n",
    "----------------\n",
    "\n",
    "Next, calculate the probability of not getting any defective components."
   ]
  },
  {
   "cell_type": "code",
   "execution_count": null,
   "id": "0e66213e",
   "metadata": {},
   "outputs": [],
   "source": [
    "# Probability of not getting any defective components\n",
    "prob_no_defects = binom.pmf(k=0, n=50, p=0.02)\n",
    "print(prob_no_defects)"
   ]
  },
  {
   "cell_type": "markdown",
   "id": "a96a094d",
   "metadata": {},
   "source": [
    "Instructions 4/4\n",
    "----------------\n",
    "\n",
    "Now calculate the probability of getting 2 or fewer defective components out of 50."
   ]
  },
  {
   "cell_type": "code",
   "execution_count": null,
   "id": "63bb04f6",
   "metadata": {},
   "outputs": [],
   "source": [
    "# Probability of getting 2 or less defective components\n",
    "prob_two_or_less_defects = binom.cdf(k=2, n=50, p=0.02)\n",
    "print(prob_two_or_less_defects)"
   ]
  },
  {
   "cell_type": "markdown",
   "id": "a92a9e76",
   "metadata": {},
   "source": [
    "Predicting employment status\n",
    "============================\n",
    "\n",
    "Consider a survey about employment that contains the question \"Are you employed?\" It is known that 65% of respondents will answer \"yes.\" Eight survey responses have been collected.\n",
    "\n",
    "We load the `binom` object from `scipy.stats`with the following code:`from scipy.stats import binom`\n",
    "\n",
    "Answer the following questions using `pmf()`, `cdf()`, and `sf()`.\n",
    "\n",
    "Instructions 1/3\n",
    "----------------\n",
    "\n",
    "-   Calculate the probability of getting exactly 5 **yes** responses."
   ]
  },
  {
   "cell_type": "code",
   "execution_count": null,
   "id": "00cea626",
   "metadata": {},
   "outputs": [],
   "source": [
    "# Calculate the probability of getting exactly 5 yes responses\n",
    "prob_five_yes = binom.pmf(k=5, n=8, p=0.65)\n",
    "print(prob_five_yes)"
   ]
  },
  {
   "cell_type": "markdown",
   "id": "a1a09d4b",
   "metadata": {},
   "source": [
    "Instructions 2/3\n",
    "----------------\n",
    "\n",
    "-   Calculate the probability of getting 3 or fewer **no** responses."
   ]
  },
  {
   "cell_type": "code",
   "execution_count": null,
   "id": "421bbaf9",
   "metadata": {},
   "outputs": [],
   "source": [
    "# Calculate the probability of getting 3 or less no responses\n",
    "prob_three_or_less_no = binom.cdf(k=3, n=8, p=0.35)\n",
    "print(prob_three_or_less_no)"
   ]
  },
  {
   "cell_type": "markdown",
   "id": "25eb6a80",
   "metadata": {},
   "source": [
    "Instructions 3/3\n",
    "----------------\n",
    "\n",
    "-   Calculate the probability of getting more than 3 **yes** responses using `binom.sf()`."
   ]
  },
  {
   "cell_type": "code",
   "execution_count": null,
   "id": "db4f48b0",
   "metadata": {},
   "outputs": [],
   "source": [
    "# Calculate the probability of getting more than 3 yes responses\n",
    "prob_more_than_three_yes = binom.sf(k=3, n=8, p=0.65)\n",
    "print(prob_more_than_three_yes)"
   ]
  }
 ],
 "metadata": {
  "kernelspec": {
   "display_name": "base",
   "language": "python",
   "name": "python3"
  },
  "language_info": {
   "name": "python",
   "version": "3.12.7"
  }
 },
 "nbformat": 4,
 "nbformat_minor": 5
}
