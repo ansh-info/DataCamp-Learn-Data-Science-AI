{
 "cells": [
  {
   "cell_type": "markdown",
   "metadata": {},
   "source": [
    "1\\. Linguistic features\n",
    "-----------------------\n",
    "\n",
    "00:00 - 00:09\n",
    "\n",
    "Welcome! In this video, we will cover more details on POS tagging and introduce dependency parsing.\n",
    "\n",
    "2\\. POS tagging\n",
    "---------------\n",
    "\n",
    "00:09 - 00:44\n",
    "\n",
    "We have learned how we can use spaCy to extract part-of-speech tags. Each word is tagged by a POS tag depending on its context and the other surrounding words, and their POS tags. For example, given a tricky sentence such as \"My cat will fish for a fish tomorrow in a fishy way.\", the spaCy tagger makes correct POS tag predictions for the fish and fishy words by tagging the first word fish to VERB, the second word fish to NOUN and the word fishy to ADJ.\n",
    "\n",
    "3\\. What is the importance of POS?\n",
    "----------------------------------\n",
    "\n",
    "00:44 - 01:05\n",
    "\n",
    "Now, the question we might ask is what is the importance of POS tags? Many applications need to know the word type for better accuracy. For example, in translation systems, the word fish as a verb and as a noun will map to different words in Spanish.\n",
    "\n",
    "4\\. What is the importance of POS?\n",
    "----------------------------------\n",
    "\n",
    "01:05 - 01:46\n",
    "\n",
    "Syntactic information such as POS tags can help many tasks further down the pipeline such as word-sense disambiguation (WSD). WSD is a classical problem of deciding in which sense a word is used in a sentence. Determining the sense of the word can be crucial in search engines, machine translation, and question-answering systems. For example, for the word \"Play\", the POS tagger can help with WSD when the tagger labels the senses of word with a NOUN or VERB depending on its context.\n",
    "\n",
    "5\\. Word-sense disambiguation\n",
    "-----------------------------\n",
    "\n",
    "01:46 - 02:27\n",
    "\n",
    "Let's use POS tagging for WSD. We create a tuple of the token and the dot-pos_ tag by looping over each token in the Doc container and check if \"fish\" is in the tokenized text. The word fish, in \"I will fish tomorrow\", has a -dot-pos_ tag of a VERB, which identifies its sense correctly as \"to catch fish\". In the sentence \"I ate fish\", the word fish has a -dot-pos_ tag of NOUN and it identifies the sense as \"an animal\".\n",
    "\n",
    "6\\. Dependency parsing\n",
    "----------------------\n",
    "\n",
    "02:27 - 03:31\n",
    "\n",
    "We have learned POS tags, which are grammatical categories of words. POS tags do not reveal any relation between distant words in a given sentence. This is where dependency parsing comes in. This process provides a structured way of exploring the sentence syntax. It is analyzing sentence structure via dependencies between tokens. A dependency or a dependency relation is a directed link between two tokens. The result of this procedure is always a tree. For example, for the sentence \"We understand the differences.\", spaCy assigns a dependency label for each token such as \"nsubj\", \"dobj\" and \"det\". For example, the first arc with nsubj label shows the subject and verb relationship between \"we\" and \"understand\".\n",
    "\n",
    "7\\. Dependency parsing and spaCy\n",
    "--------------------------------\n",
    "\n",
    "03:31 - 03:55\n",
    "\n",
    "A dependency label describes the type of syntactic relation between two tokens. A few of the most common dependency labels is provided in the table such as nsubj (Nominal subject), root, det (determiner), dobj (direct object) and aux (auxiliary).\n",
    "\n",
    "8\\. Dependency parsing and displaCy\n",
    "-----------------------------------\n",
    "\n",
    "03:55 - 04:40\n",
    "\n",
    "Let's draw our first dependency tree using displaCy. We can use spacy-dot-displacy-dot-serve by passing two arguments, a Doc container of a given text and a word of \"dep\" (dependency) to display a dependency tree. In a dependency relation, one of the tokens is the parent, and the other is its dependent. For example, for the dependency relation between the words \"the\" and \"differences\", \"the\" is the dependent, and the dependency label is \"det\", which stands for determiner.\n",
    "\n",
    "9\\. Dependency parsing and spaCy\n",
    "--------------------------------\n",
    "\n",
    "04:40 - 04:58\n",
    "\n",
    "We use -dot-text and -dot-dep_ attributes of a token to access the dependency label of each of the tokens. We can also use spacy-dot-explain() method to view definition of each dependency label.\n",
    "\n",
    "10\\. Let's practice!\n",
    "--------------------\n",
    "\n",
    "04:58 - 05:02\n",
    "\n",
    "Great job! Let's practice."
   ]
  },
  {
   "cell_type": "markdown",
   "metadata": {},
   "source": [
    "#### Linguistic annotations in spaCy\n",
    "\n",
    "Linguistic annotations that are available in spaCy, such as POS tagging, named-entity recognition, and dependency parsing, can be used to better understand writing quality and learn about many aspects of human language, including words, sentences, and meaning. In this exercise, you'll practice your learnings on different linguistic features.\n",
    "\n",
    "##### Instructions\n",
    "\n",
    "-   Drag and drop a definition or spaCy token attribute into the correct bucket of the corresponding linguistic feature."
   ]
  },
  {
   "cell_type": "markdown",
   "metadata": {},
   "source": [
    "![alt text](images/Linguistic-annotations.png)"
   ]
  },
  {
   "cell_type": "markdown",
   "metadata": {},
   "source": [
    "Word-sense disambiguation with spaCy\n",
    "====================================\n",
    "\n",
    "WSD is a classical problem of deciding in which sense a word is used in a sentence. Determining the sense of the word can be crucial in search engines, machine translation, and question-answering systems. In this exercise, you will practice using POS tagging for word-sense disambiguation. \n",
    "\n",
    "There are two sentences containing the word **jam**, with two different senses and you are tasked to identify the POS tags to help you determine the corresponding sense of the word in a given sentence. \n",
    "\n",
    "The two sentences are available in the `texts` list. The `en_core_web_sm` model is already loaded and available for your use as `nlp`.\n",
    "\n",
    "Instructions 1/2\n",
    "----------------\n",
    "\n",
    "-   Create a `documents` list containing the `Doc` containers of each element in the `texts` list.\n",
    "-   Print a tuple of the token's text and POS tags per each `Doc` container only if the word **jam** is in the token text."
   ]
  },
  {
   "cell_type": "code",
   "execution_count": null,
   "metadata": {},
   "outputs": [],
   "source": [
    "texts = [\"This device is used to jam the signal.\",\n",
    "         \"I am stuck in a traffic jam\"]\n",
    "\n",
    "# Create a list of Doc containers in the texts list\n",
    "documents = [nlp(t) for t in texts]\n",
    "\n",
    "# Print a token's text and POS tag if the word jam is in the token's text\n",
    "for i, doc in enumerate(documents):\n",
    "    print(f\"Sentence {i+1}: \", [(token.text, token.pos_) for token in doc if \"jam\" in token.text], \"\\n\")"
   ]
  },
  {
   "cell_type": "markdown",
   "metadata": {},
   "source": [
    "Instructions 2/2\n",
    "----------------\n",
    "\n",
    "Question\n",
    "--------\n",
    "\n",
    "The word **jam** has multiple senses. In the sentence **\"This device is used to jam the signal.\"**, what is the sense of the word **jam**?\n",
    "\n",
    "### Possible answers\n",
    "\n",
    "VERB: become or make unable to move or work due to a part seizing or becoming stuck.\n",
    "\n",
    "[/] NOUN: an instance of a machine or thing seizing or becoming stuck.\n",
    "\n",
    "NOUN: an awkward situation or predicament."
   ]
  },
  {
   "cell_type": "markdown",
   "metadata": {},
   "source": [
    "Dependency parsing with spaCy\n",
    "=============================\n",
    "\n",
    "Dependency parsing analyzes the grammatical structure in a sentence and finds out related words as well as the type of relationship between them. An application of dependency parsing is to identify a sentence object and subject. In this exercise, you will practice extracting dependency labels for given texts. \n",
    "\n",
    "Three comments from the Airline Travel Information System (ATIS) dataset have been provided for you in a list called `texts`. `en_core_web_sm` model is already loaded and available for your use as `nlp`.\n",
    "\n",
    "Instructions\n",
    "------------\n",
    "\n",
    "-   Create a `documents` list containing the `doc` containers of each element in the `texts` list.\n",
    "-   Print a tuple of (the token's text, dependency label, and label's explanation) per each `doc` container."
   ]
  },
  {
   "cell_type": "code",
   "execution_count": null,
   "metadata": {},
   "outputs": [],
   "source": [
    "# Create a list of Doc containers of texts list\n",
    "documents = [nlp(t) for t in texts]\n",
    "\n",
    "# Print each token's text, dependency label and its explanation\n",
    "for doc in documents:\n",
    "    print([(token.text, token.dep_, spacy.explain(token.dep_)) for token in doc], \"\\n\")"
   ]
  }
 ],
 "metadata": {
  "kernelspec": {
   "display_name": "nlp",
   "language": "python",
   "name": "python3"
  },
  "language_info": {
   "name": "python",
   "version": "3.12.7"
  }
 },
 "nbformat": 4,
 "nbformat_minor": 2
}
